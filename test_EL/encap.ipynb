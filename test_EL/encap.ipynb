{
 "cells": [
  {
   "cell_type": "code",
   "execution_count": 1,
   "id": "23024bb0",
   "metadata": {},
   "outputs": [
    {
     "name": "stdout",
     "output_type": "stream",
     "text": [
      "Error: cannot access private attribute directly\n",
      "Marks: 85\n",
      "Updated Marks: 90\n",
      "Invalid marks. Marks should be between 0 and 100.\n"
     ]
    }
   ],
   "source": [
    "class Student:\n",
    "    def __init__(self, name, marks):\n",
    "        self.name = name\n",
    "        self.__marks = marks  \n",
    "    def get_marks(self):\n",
    "        return self.__marks\n",
    "\n",
    "    \n",
    "    def set_marks(self, marks):\n",
    "        if marks >= 0 and marks <= 100:\n",
    "            self.__marks = marks\n",
    "        else:\n",
    "            print(\"Invalid marks. Marks should be between 0 and 100.\")\n",
    "\n",
    "\n",
    "student = Student(\"John Doe\", 85)\n",
    "\n",
    "\n",
    "try:\n",
    "    print(student.__marks)\n",
    "except AttributeError:\n",
    "    print(\"Error: cannot access private attribute directly\")\n",
    "\n",
    "\n",
    "print(\"Marks:\", student.get_marks())\n",
    "\n",
    "student.set_marks(90)\n",
    "print(\"Updated Marks:\", student.get_marks())\n",
    "\n",
    "student.set_marks(150)\n"
   ]
  },
  {
   "cell_type": "code",
   "execution_count": null,
   "id": "cfc0454e",
   "metadata": {},
   "outputs": [],
   "source": []
  }
 ],
 "metadata": {
  "kernelspec": {
   "display_name": "Python 3",
   "language": "python",
   "name": "python3"
  },
  "language_info": {
   "codemirror_mode": {
    "name": "ipython",
    "version": 3
   },
   "file_extension": ".py",
   "mimetype": "text/x-python",
   "name": "python",
   "nbconvert_exporter": "python",
   "pygments_lexer": "ipython3",
   "version": "3.12.2"
  }
 },
 "nbformat": 4,
 "nbformat_minor": 5
}
