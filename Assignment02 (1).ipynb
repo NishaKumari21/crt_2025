{
 "cells": [
  {
   "cell_type": "markdown",
   "id": "03704d83-ec95-4466-83c8-42f8e300cf7a",
   "metadata": {},
   "source": [
    "Q1.1. Write a function pascals_triangle(rows) that prints the first rows of\n",
    "Pascal’s Triangle using nested for loops.\n",
    "pascals_triangle(5)\n",
    "Output:\n",
    " 1\n",
    " 1 1\n",
    " 1 2 1\n",
    "1 3 3 1\n",
    "1 4 6 4 1\n"
   ]
  },
  {
   "cell_type": "code",
   "execution_count": 6,
   "id": "e507d811-852d-4a7b-bf77-05787ca5e055",
   "metadata": {},
   "outputs": [
    {
     "name": "stdout",
     "output_type": "stream",
     "text": [
      "     1 \n",
      "    1 1 \n",
      "   1 2 1 \n",
      "  1 3 3 1 \n",
      " 1 4 6 4 1 \n"
     ]
    }
   ],
   "source": [
    "def pascals_triangle(rows):\n",
    "    for i in range(rows):\n",
    "        num = 1\n",
    "        print(' ' * (rows - i), end='')\n",
    "        for j in range(i + 1):\n",
    "            print(num, end=' ')\n",
    "            num = num * (i - j) // (j + 1)\n",
    "        print()\n",
    "\n",
    "pascals_triangle(5)"
   ]
  },
  {
   "cell_type": "markdown",
   "id": "241f5f82-d974-4818-be02-1725c515e021",
   "metadata": {},
   "source": [
    "2. Explain how the `continue` statement works in a loop. What are some\n",
    "scenarios where using `continue` is more beneficial than restructuring\n",
    "the loop?\n",
    "- Coding Challenge: Write a Python program that iterates through a list\n",
    "of numbers and prints only those numbers that are divisible by 3, using\n",
    "the `continue` statement.\n"
   ]
  },
  {
   "cell_type": "code",
   "execution_count": 9,
   "id": "06738605-8895-498e-921c-b5c9894f700e",
   "metadata": {},
   "outputs": [
    {
     "name": "stdout",
     "output_type": "stream",
     "text": [
      "Numbers divisible by 3:\n",
      "3\n",
      "6\n",
      "9\n"
     ]
    }
   ],
   "source": [
    "\"\"\"\n",
    "The 'continue' statement in a loop skips the rest of the code inside the loop for the current iteration and moves on to the next iteration.\n",
    "It is useful when you want to skip certain conditions without breaking out of the entire loop.\n",
    "\"\"\"\n",
    "numbers = [1, 2, 3, 4, 5, 6, 7, 8, 9, 10]\n",
    "print(\"Numbers divisible by 3:\")\n",
    "for num in numbers:\n",
    "    if num % 3 != 0:\n",
    "        continue\n",
    "    print(num)\n"
   ]
  },
  {
   "cell_type": "markdown",
   "id": "4ce6e9c5-31d8-40a4-8a4c-8887d0905a3c",
   "metadata": {},
   "source": [
    "3. Use list comprehension to generate all Pythagorean triplets (a, b, c)\n",
    "where a² + b² = c² and a, b, c ≤ 50."
   ]
  },
  {
   "cell_type": "code",
   "execution_count": 12,
   "id": "bb9c43f3-cfdd-4cf4-b074-14ca41948bda",
   "metadata": {},
   "outputs": [
    {
     "name": "stdout",
     "output_type": "stream",
     "text": [
      "Pythagorean triplets: [(3, 4, 5), (5, 12, 13), (6, 8, 10), (7, 24, 25), (8, 15, 17), (9, 12, 15), (9, 40, 41), (10, 24, 26), (12, 16, 20), (12, 35, 37), (14, 48, 50), (15, 20, 25), (15, 36, 39), (16, 30, 34), (18, 24, 30), (20, 21, 29), (21, 28, 35), (24, 32, 40), (27, 36, 45), (30, 40, 50)]\n"
     ]
    }
   ],
   "source": [
    "a_b_c_triplets = [(a, b, c) for a in range(1, 51) for b in range(a, 51) for c in range(b, 51) if a**2 + b**2 == c**2]\n",
    "print(\"Pythagorean triplets:\", a_b_c_triplets)"
   ]
  },
  {
   "cell_type": "markdown",
   "id": "707b4a5e-c25d-4d05-8b80-0fa8ba3544aa",
   "metadata": {},
   "source": [
    "4. Write a function max_consecutive_sum(nums, k) that finds the\n",
    "maximum sum of k consecutive elements in a list.\n"
   ]
  },
  {
   "cell_type": "code",
   "execution_count": 25,
   "id": "347c9c1c-c3aa-4bf3-97a7-282ed3fa2ed7",
   "metadata": {},
   "outputs": [
    {
     "name": "stdout",
     "output_type": "stream",
     "text": [
      "Max consecutive sum: 27\n"
     ]
    }
   ],
   "source": [
    "# Simple method to find max sum of k consecutive elements\n",
    "def max_consecutive_sum(nums, k):\n",
    "    max_sum = 0\n",
    "    for i in range(len(nums) - k + 1):\n",
    "        current_sum = sum(nums[i:i + k])\n",
    "        if current_sum > max_sum:\n",
    "            max_sum = current_sum\n",
    "    return max_sum\n",
    "\n",
    "# Example usage\n",
    "nums = [1, 2, 3, 4, 5, 6, 7, 8, 9, 10]\n",
    "k = 3\n",
    "print(\"Max consecutive sum:\", max_consecutive_sum(nums, k))\n",
    "\n"
   ]
  },
  {
   "cell_type": "markdown",
   "id": "e0e7538b-e8ed-4852-9cf4-58a1ba486dd6",
   "metadata": {},
   "source": [
    "5. Write a function that takes a list as an argument and modifies it by\n",
    "appending a new item. Demonstrate how changes to the list inside the\n",
    "function affect the list outside the function."
   ]
  },
  {
   "cell_type": "code",
   "execution_count": 28,
   "id": "e209b08c-0a1b-4e65-864e-eda0d9766b15",
   "metadata": {},
   "outputs": [
    {
     "name": "stdout",
     "output_type": "stream",
     "text": [
      "Modified list: [1, 2, 3, 'New item']\n"
     ]
    }
   ],
   "source": [
    "# Function to modify list\n",
    "def modify_list(lst):\n",
    "    lst.append(\"New item\")\n",
    "\n",
    "example_list = [1, 2, 3]\n",
    "modify_list(example_list)\n",
    "print(\"Modified list:\", example_list)"
   ]
  },
  {
   "cell_type": "markdown",
   "id": "2682f633-8892-421a-b82f-a38c0bd6b05c",
   "metadata": {},
   "source": [
    "6. Take a number as input and print the Fibonacci sequence up to that\n",
    "many terms using User-defined functions. "
   ]
  },
  {
   "cell_type": "code",
   "execution_count": 31,
   "id": "105e52db-6bf0-4677-8e10-1594ea23a83b",
   "metadata": {},
   "outputs": [
    {
     "name": "stdin",
     "output_type": "stream",
     "text": [
      "Enter the number of Fibonacci terms:  5\n"
     ]
    },
    {
     "name": "stdout",
     "output_type": "stream",
     "text": [
      "0 1 1 2 3 \n"
     ]
    }
   ],
   "source": [
    "# Fibonacci sequence function\n",
    "def fibonacci(n):\n",
    "    a, b = 0, 1\n",
    "    for i in range(n):\n",
    "        print(a, end=' ')\n",
    "        a, b = b, a + b\n",
    "    print()\n",
    "\n",
    "num_terms = int(input(\"Enter the number of Fibonacci terms: \"))\n",
    "fibonacci(num_terms)"
   ]
  },
  {
   "cell_type": "code",
   "execution_count": null,
   "id": "d3646124-76db-40d3-910b-08af5eca97ab",
   "metadata": {},
   "outputs": [],
   "source": []
  }
 ],
 "metadata": {
  "kernelspec": {
   "display_name": "Python 3 (ipykernel)",
   "language": "python",
   "name": "python3"
  },
  "language_info": {
   "codemirror_mode": {
    "name": "ipython",
    "version": 3
   },
   "file_extension": ".py",
   "mimetype": "text/x-python",
   "name": "python",
   "nbconvert_exporter": "python",
   "pygments_lexer": "ipython3",
   "version": "3.12.7"
  },
  "widgets": {
   "application/vnd.jupyter.widget-state+json": {
    "state": {},
    "version_major": 2,
    "version_minor": 0
   }
  }
 },
 "nbformat": 4,
 "nbformat_minor": 5
}
