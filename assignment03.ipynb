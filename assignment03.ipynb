{
 "cells": [
  {
   "cell_type": "markdown",
   "id": "eec81cfc-6352-4ac3-8282-7e9021919a84",
   "metadata": {},
   "source": [
    "Assignment 3:-\n",
    "1. Write a lambda function to merge two lists into a dictionary where\n",
    "one list represents keys and the other represents values.\n",
    "2. Create a class Product with instance variables name and price. Also,\n",
    "add a class variable discount_rate and a method to calculate the\n",
    "discounted price.\n",
    "3. Create a base class Shape with a method area(). Derive two\n",
    "subclasses Circle and Rectangle, each implementing their own area()\n",
    "method. (INHERITANCE)\n",
    "4. Create two base classes Person and Employee, and derive a class\n",
    "Manager from both. (MULTIPLE INHERITANCE)\n",
    "5. Implement a function play_sound() that accepts different animal\n",
    "objects (Dog, Cat, Cow) and calls their make_sound() method\n",
    "dynamically. (POLYMORPHISM)\n",
    "6. Design a Car Rental System using Object-Oriented Programming\n",
    "(OOP) in Python. The system should include a Vehicle class and\n",
    "derived classes Car and Bike. Implement constructors and use\n",
    "inheritance to manage common and specific attributes.\n"
   ]
  },
  {
   "cell_type": "code",
   "execution_count": 6,
   "id": "9082acb4-1611-408e-ba9d-d82c9ea0166b",
   "metadata": {},
   "outputs": [
    {
     "name": "stdout",
     "output_type": "stream",
     "text": [
      "{'nisha': 4, 'ayesha': 5, 'kajal': 6, 'varsha': 8}\n"
     ]
    }
   ],
   "source": [
    "# 1. Write a lambda function to merge two lists into a dictionary where\n",
    "# one list represents keys and the other represents values.\n",
    "merge_list=lambda keys,val:dict(zip(keys,val))\n",
    "keys=[\"nisha\",\"ayesha\",\"kajal\",\"varsha\"]\n",
    "val=[4,5,6,8]\n",
    "result=merge_list(keys,val)\n",
    "print(result)"
   ]
  },
  {
   "cell_type": "code",
   "execution_count": 34,
   "id": "35b56ac1-37f4-4997-a69b-f6b263a620b2",
   "metadata": {},
   "outputs": [
    {
     "data": {
      "text/plain": [
       "180.0"
      ]
     },
     "execution_count": 34,
     "metadata": {},
     "output_type": "execute_result"
    }
   ],
   "source": [
    "# 2. Create a class Product with instance variables name and price. Also,\n",
    "# add a class variable discount_rate and a method to calculate the\n",
    "# # discounted price.\n",
    "class product:\n",
    "    # class variable\n",
    "    discount_rate=0.1\n",
    "    def __init__(self,name,price):\n",
    "        # instance variable:variable inside the constructor\n",
    "        self.name=name\n",
    "        self.price=price\n",
    "        # method to calculate the discounted price\n",
    "    def cal(self):\n",
    "        discounted_price = self.price*(1- product.discount_rate)\n",
    "        return discounted_price\n",
    "s1=product(\"abc\",200)\n",
    "s1.cal()\n"
   ]
  },
  {
   "cell_type": "code",
   "execution_count": 60,
   "id": "cd783217-912e-4672-b0c3-6149b5ebedde",
   "metadata": {},
   "outputs": [
    {
     "name": "stdout",
     "output_type": "stream",
     "text": [
      "12.56\n",
      "40\n"
     ]
    }
   ],
   "source": [
    "# 3. Create a base class Shape with a method area(). Derive two\n",
    "# subclasses Circle and Rectangle, each implementing their own area()\n",
    "# method. (INHERITANCE)\n",
    "class shape:\n",
    "    def area():\n",
    "        pass\n",
    "class circle(shape):\n",
    "    def __init__(self,radius):\n",
    "        self.radius=radius\n",
    "    def area(self):\n",
    "        return 3.14*2*self.radius\n",
    "    \n",
    "class rectangle(shape):\n",
    "    def __init__(self,length,breadth):\n",
    "        self.length=length\n",
    "        self.breadth=breadth\n",
    "    def area(self):\n",
    "        return 2*self.length*self.breadth\n",
    "a1 = circle(2)\n",
    "print(a1.area())\n",
    "\n",
    "a2 = rectangle(4, 5)\n",
    "print(a2.area())\n"
   ]
  },
  {
   "cell_type": "code",
   "execution_count": 62,
   "id": "16d9c10f-422f-4b88-a64e-825c0f72edc2",
   "metadata": {},
   "outputs": [
    {
     "name": "stdout",
     "output_type": "stream",
     "text": [
      "this is person class\n",
      "this is employee class\n",
      "both\n"
     ]
    }
   ],
   "source": [
    "# 4. Create two base classes Person and Employee, and derive a class\n",
    "# Manager from both. (MULTIPLE INHERITANCE)\n",
    "class person:\n",
    "    a=\"person class\"\n",
    "    print(\"this is person class\")\n",
    "class employee:\n",
    "    b=\"employee class\"\n",
    "    print(\"this is employee class\")\n",
    "class manager(person,employee):\n",
    "    print(\"both\")\n",
    "a1=manager\n",
    "\n",
    "    "
   ]
  },
  {
   "cell_type": "code",
   "execution_count": 64,
   "id": "a6ec4f38-843a-4e6e-93ba-5d19f5a09446",
   "metadata": {},
   "outputs": [
    {
     "name": "stdout",
     "output_type": "stream",
     "text": [
      "Woof! Woof!\n",
      "Meow! Meow!\n",
      "Moo! Moo!\n"
     ]
    }
   ],
   "source": [
    "# 5. Implement a function play_sound() that accepts different animal\n",
    "# objects (Dog, Cat, Cow) and calls their make_sound() method\n",
    "# dynamically. (POLYMORPHISM)\n",
    "# Base class Animal\n",
    "class Animal:\n",
    "    def make_sound(self):\n",
    "        pass\n",
    "class Dog(Animal):\n",
    "    def make_sound(self):\n",
    "        return \"Woof! Woof!\"\n",
    "class Cat(Animal):\n",
    "    def make_sound(self):\n",
    "        return \"Meow! Meow!\"\n",
    "class Cow(Animal):\n",
    "    def make_sound(self):\n",
    "        return \"Moo! Moo!\"\n",
    "\n",
    "# Function to demonstrate polymorphism\n",
    "def play_sound(animal):\n",
    "    print(animal.make_sound())\n",
    "\n",
    "# Creating objects\n",
    "dog = Dog()\n",
    "cat = Cat()\n",
    "cow = Cow()\n",
    "\n",
    "# Calling play_sound() with different animal objects\n",
    "play_sound(dog)  # Output: Woof! Woof!\n",
    "play_sound(cat)  # Output: Meow! Meow!\n",
    "play_sound(cow)  # Output: Moo! Moo!\n"
   ]
  },
  {
   "cell_type": "code",
   "execution_count": null,
   "id": "c39a03a2-ba31-4008-9b9d-8d8215037097",
   "metadata": {},
   "outputs": [],
   "source": [
    "# Base class for all vehicles\n",
    "class Vehicle:\n",
    "    def __init__(self, brand, model, price_per_day):\n",
    "        self.brand = brand\n",
    "        self.model = model\n",
    "        self.price_per_day = price_per_day\n",
    "\n",
    "    def display_info(self):\n",
    "        return f\"{self.brand} {self.model}, Price: ${self.price_per_day}/day\"\n",
    "\n",
    "class Car(Vehicle):\n",
    "    def __init__(self, brand, model, price_per_day, seats, fuel_type):\n",
    "        super().__init__(brand, model, price_per_day)\n",
    "        self.seats = seats\n",
    "        self.fuel_type = fuel_type\n",
    "\n",
    "    def display_info(self):\n",
    "        return super().display_info() + f\", Seats: {self.seats}, Fuel: {self.fuel_type}\"\n",
    "\n",
    "class Bike(Vehicle):\n",
    "    def __init__(self, brand, model, price_per_day, bike_type):\n",
    "        super().__init__(brand, model, price_per_day)\n",
    "        self.bike_type = bike_type\n",
    "\n",
    "    def display_info(self):\n",
    "        return super().display_info() + f\", Type: {self.bike_type}\"\n",
    "\n",
    "# List to store vehicles\n",
    "vehicles = [\n",
    "    Car(\"Toyota\", \"Camry\", 50, 5, \"Petrol\"),\n",
    "    Bike(\"Honda\", \"CBR\", 30, \"Sport\")\n",
    "]\n",
    "\n",
    "# Display all vehicles\n",
    "print(\"Available Vehicles:\")\n",
    "for vehicle in vehicles:\n",
    "    print(vehicle.display_info())\n"
   ]
  }
 ],
 "metadata": {
  "kernelspec": {
   "display_name": "Python 3 (ipykernel)",
   "language": "python",
   "name": "python3"
  },
  "language_info": {
   "codemirror_mode": {
    "name": "ipython",
    "version": 3
   },
   "file_extension": ".py",
   "mimetype": "text/x-python",
   "name": "python",
   "nbconvert_exporter": "python",
   "pygments_lexer": "ipython3",
   "version": "3.12.7"
  },
  "widgets": {
   "application/vnd.jupyter.widget-state+json": {
    "state": {},
    "version_major": 2,
    "version_minor": 0
   }
  }
 },
 "nbformat": 4,
 "nbformat_minor": 5
}
