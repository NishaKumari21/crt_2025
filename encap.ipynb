{
 "cells": [
  {
   "cell_type": "code",
   "execution_count": 17,
   "metadata": {},
   "outputs": [
    {
     "name": "stdout",
     "output_type": "stream",
     "text": [
      "arya main campus\n",
      "arya\n"
     ]
    }
   ],
   "source": [
    "# # encapsulation\n",
    "class arya:\n",
    "    def __init__(self):\n",
    "        # private\n",
    "        self.__acount_no=1234\n",
    "        # public\n",
    "        self._account_name=\"arya\"\n",
    "        # public\n",
    "        self.acount=\"account\"\n",
    "class student(arya):\n",
    "    print(\"arya main campus\")\n",
    "a1=student()\n",
    "# public\n",
    "print(a1._account_name)\n",
    "# private\n",
    "# print(a1.__acount_no)\n",
    "\n",
    "\n",
    "\n"
   ]
  },
  {
   "cell_type": "code",
   "execution_count": null,
   "metadata": {},
   "outputs": [],
   "source": [
    "print(a)"
   ]
  },
  {
   "cell_type": "code",
   "execution_count": null,
   "metadata": {},
   "outputs": [],
   "source": []
  },
  {
   "cell_type": "code",
   "execution_count": null,
   "metadata": {},
   "outputs": [],
   "source": []
  }
 ],
 "metadata": {
  "kernelspec": {
   "display_name": "Python 3",
   "language": "python",
   "name": "python3"
  },
  "language_info": {
   "codemirror_mode": {
    "name": "ipython",
    "version": 3
   },
   "file_extension": ".py",
   "mimetype": "text/x-python",
   "name": "python",
   "nbconvert_exporter": "python",
   "pygments_lexer": "ipython3",
   "version": "3.12.2"
  }
 },
 "nbformat": 4,
 "nbformat_minor": 2
}
