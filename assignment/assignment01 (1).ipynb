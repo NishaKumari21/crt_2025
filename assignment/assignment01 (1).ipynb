{
 "cells": [
  {
   "cell_type": "markdown",
   "id": "4382cae1-275d-40aa-b0e9-5afa60f24942",
   "metadata": {},
   "source": [
    "1. How do lists and tuples differ in terms of mutability and\n",
    "performance? When would you choose one over the other?\n",
    "Ans:Using a list we can  modify, add, or remove items dynamically, whereas\n",
    "choosing a tuple when the data should remain constant and should not be altered. Tuples are also more memory efficient and faster when used in loops or as dictionary keys.\n"
   ]
  },
  {
   "cell_type": "markdown",
   "id": "e6e0d768-528a-4249-8dc4-bf0cc1d0777e",
   "metadata": {},
   "source": [
    "Q2. Explain how Python handles type conversion between different data\n",
    "types, such as between integers and floats or between strings and\n",
    "lists.\n"
   ]
  },
  {
   "cell_type": "code",
   "execution_count": 1,
   "id": "3601e7cf-075e-4458-9599-7aadb95ed3ee",
   "metadata": {},
   "outputs": [
    {
     "name": "stdout",
     "output_type": "stream",
     "text": [
      "12.0\n"
     ]
    }
   ],
   "source": [
    "# int to float\n",
    "num=12\n",
    "print(float(num))"
   ]
  },
  {
   "cell_type": "code",
   "execution_count": 3,
   "id": "3793d540-bdbb-4633-ac4c-3c3df83fc8b5",
   "metadata": {},
   "outputs": [
    {
     "name": "stdout",
     "output_type": "stream",
     "text": [
      "23\n"
     ]
    }
   ],
   "source": [
    "# float to int\n",
    "num1=23.4\n",
    "print(int(num1))"
   ]
  },
  {
   "cell_type": "code",
   "execution_count": 7,
   "id": "8c9f8908-caf6-419b-8c95-147f66c26335",
   "metadata": {},
   "outputs": [
    {
     "name": "stdout",
     "output_type": "stream",
     "text": [
      "100\n",
      "<class 'str'>\n"
     ]
    }
   ],
   "source": [
    "# string\n",
    "num = 100\n",
    "converted = str(num)\n",
    "print(converted)  \n",
    "print(type(converted))"
   ]
  },
  {
   "cell_type": "markdown",
   "id": "4ded2b2e-aaa0-4206-b609-05bb5fa8737f",
   "metadata": {},
   "source": [
    "Q3.Take a number and use the += operator to increase its value by 10."
   ]
  },
  {
   "cell_type": "code",
   "execution_count": null,
   "id": "04f3f384-f55a-4abf-a7cc-f39e63239543",
   "metadata": {},
   "outputs": [],
   "source": [
    "number = 5\n",
    "number += 10  # Increases the value by 10\n",
    "print(number)  # Output: 15"
   ]
  },
  {
   "cell_type": "markdown",
   "id": "12df376f-51a5-4809-89f4-42e81d282f14",
   "metadata": {},
   "source": [
    "4. Write a Python program to check if a given year is a leap year or not"
   ]
  },
  {
   "cell_type": "code",
   "execution_count": 2,
   "id": "6d5cf30a-db76-4a7a-a507-dc573760de16",
   "metadata": {},
   "outputs": [
    {
     "name": "stdin",
     "output_type": "stream",
     "text": [
      " 2024\n"
     ]
    },
    {
     "name": "stdout",
     "output_type": "stream",
     "text": [
      "leap year\n"
     ]
    }
   ],
   "source": [
    "year=int(input())\n",
    "if (year % 4 == 0 and year % 100 != 0) or (year % 400 == 0):\n",
    "    print(\"leap year\")\n",
    "else:\n",
    "    print(\"not a leap year\")"
   ]
  },
  {
   "cell_type": "markdown",
   "id": "56502865-8d75-47f2-88e9-21f5b0853edd",
   "metadata": {},
   "source": [
    "5. Write a program that asks the user to enter their marks and displays\n",
    "their grade:\n",
    "• 90-100: A\n",
    "• 80-89: B\n",
    "• 70-79: C\n",
    "• 60-69: D\n",
    "• Below 60: F\n"
   ]
  },
  {
   "cell_type": "code",
   "execution_count": 8,
   "id": "34d8051d-a710-4aec-b64f-7f557d920db5",
   "metadata": {},
   "outputs": [
    {
     "name": "stdin",
     "output_type": "stream",
     "text": [
      "Enter your marks:  89\n"
     ]
    },
    {
     "name": "stdout",
     "output_type": "stream",
     "text": [
      "Your grade is: B\n"
     ]
    }
   ],
   "source": [
    "marks = int(input(\"Enter your marks: \"))\n",
    "if (90 <= marks <= 100):\n",
    "    grade = 'A'\n",
    "elif (80 <= marks < 90):\n",
    "    grade = 'B'\n",
    "elif (70 <= marks < 80):\n",
    "    grade = 'C'\n",
    "elif (60 <= marks < 70):\n",
    "    grade = 'D'\n",
    "else:\n",
    "    grade = 'F'\n",
    "print(f\"Your grade is: {grade}\")\n"
   ]
  },
  {
   "cell_type": "code",
   "execution_count": null,
   "id": "f7a88112-952d-4385-b244-672d3d9daef8",
   "metadata": {},
   "outputs": [],
   "source": []
  }
 ],
 "metadata": {
  "kernelspec": {
   "display_name": "Python 3 (ipykernel)",
   "language": "python",
   "name": "python3"
  },
  "language_info": {
   "codemirror_mode": {
    "name": "ipython",
    "version": 3
   },
   "file_extension": ".py",
   "mimetype": "text/x-python",
   "name": "python",
   "nbconvert_exporter": "python",
   "pygments_lexer": "ipython3",
   "version": "3.12.7"
  },
  "widgets": {
   "application/vnd.jupyter.widget-state+json": {
    "state": {},
    "version_major": 2,
    "version_minor": 0
   }
  }
 },
 "nbformat": 4,
 "nbformat_minor": 5
}
