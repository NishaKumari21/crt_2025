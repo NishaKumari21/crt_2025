{
 "cells": [
  {
   "cell_type": "markdown",
   "metadata": {},
   "source": [
    "Assignment 3:-\n",
    "1. Write a lambda function to merge two lists into a dictionary where\n",
    "one list represents keys and the other represents values.\n",
    "2. Create a class Product with instance variables name and price. Also,\n",
    "add a class variable discount_rate and a method to calculate the\n",
    "discounted price.\n",
    "3. Create a base class Shape with a method area(). Derive two\n",
    "subclasses Circle and Rectangle, each implementing their own area()\n",
    "method. (INHERITANCE)\n",
    "4. Create two base classes Person and Employee, and derive a class\n",
    "Manager from both. (MULTIPLE INHERITANCE)\n",
    "5. Implement a function play_sound() that accepts different animal\n",
    "objects (Dog, Cat, Cow) and calls their make_sound() method\n",
    "dynamically. (POLYMORPHISM)\n",
    "6. Design a Car Rental System using Object-Oriented Programming\n",
    "(OOP) in Python. The system should include a Vehicle class and\n",
    "derived classes Car and Bike. Implement constructors and use\n",
    "inheritance to manage common and specific attributes.\n"
   ]
  },
  {
   "cell_type": "code",
   "execution_count": null,
   "metadata": {
    "vscode": {
     "languageId": "plaintext"
    }
   },
   "outputs": [],
   "source": [
    "\n"
   ]
  },
  {
   "cell_type": "code",
   "execution_count": null,
   "metadata": {
    "vscode": {
     "languageId": "plaintext"
    }
   },
   "outputs": [],
   "source": []
  },
  {
   "cell_type": "code",
   "execution_count": null,
   "metadata": {
    "vscode": {
     "languageId": "plaintext"
    }
   },
   "outputs": [],
   "source": []
  },
  {
   "cell_type": "code",
   "execution_count": null,
   "metadata": {
    "vscode": {
     "languageId": "plaintext"
    }
   },
   "outputs": [],
   "source": []
  }
 ],
 "metadata": {
  "language_info": {
   "name": "python"
  }
 },
 "nbformat": 4,
 "nbformat_minor": 2
}
