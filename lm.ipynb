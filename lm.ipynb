{
 "cells": [
  {
   "cell_type": "code",
   "execution_count": 3,
   "metadata": {},
   "outputs": [
    {
     "name": "stdout",
     "output_type": "stream",
     "text": [
      "5\n"
     ]
    }
   ],
   "source": [
    "add=lambda x,y:x+y\n",
    "print(add(2,3))"
   ]
  },
  {
   "cell_type": "code",
   "execution_count": 5,
   "metadata": {},
   "outputs": [
    {
     "name": "stdout",
     "output_type": "stream",
     "text": [
      "10\n"
     ]
    }
   ],
   "source": [
    "# oops\n",
    "class arya:\n",
    "    a=10\n",
    "a1=arya()\n",
    "print(a1.a)"
   ]
  },
  {
   "cell_type": "code",
   "execution_count": 14,
   "metadata": {},
   "outputs": [
    {
     "name": "stdout",
     "output_type": "stream",
     "text": [
      "hod\n",
      "None\n"
     ]
    }
   ],
   "source": [
    "class arya1:\n",
    "    def hod():\n",
    "        print(\"hod\")\n",
    "h1=arya1.hod()\n",
    "print(h1)\n"
   ]
  },
  {
   "cell_type": "code",
   "execution_count": 21,
   "metadata": {},
   "outputs": [
    {
     "name": "stdout",
     "output_type": "stream",
     "text": [
      "10\n"
     ]
    }
   ],
   "source": [
    "class arya:\n",
    "    def __init__(self):\n",
    "        self.a=10\n",
    "        # instance variable\n",
    "a1=arya()\n",
    "print(a1.a)\n"
   ]
  },
  {
   "cell_type": "code",
   "execution_count": 15,
   "metadata": {},
   "outputs": [
    {
     "name": "stdout",
     "output_type": "stream",
     "text": [
      "<class 'int'>\n"
     ]
    }
   ],
   "source": [
    "a=10\n",
    "print(type(a))"
   ]
  },
  {
   "cell_type": "code",
   "execution_count": 33,
   "metadata": {},
   "outputs": [
    {
     "name": "stdout",
     "output_type": "stream",
     "text": [
      "MR.XYZ\n",
      "Old_Campus\n"
     ]
    }
   ],
   "source": [
    "class arya_old:\n",
    "    def __init__(self,founder,name):\n",
    "        self.name=name\n",
    "        self.founder=founder\n",
    "a=arya_old(\"Old_Campus\",\"MR.XYZ\")\n",
    "print(a.name)\n",
    "print(a.founder)"
   ]
  },
  {
   "cell_type": "code",
   "execution_count": null,
   "metadata": {},
   "outputs": [
    {
     "name": "stdout",
     "output_type": "stream",
     "text": [
      "SKIT\n",
      "2000\n"
     ]
    }
   ],
   "source": [
    "class skit:\n",
    "    def __init__(self,year,name):\n",
    "        self.year=year\n",
    "        self.name=name\n",
    "    def show(self):\n",
    "        print(self.name)\n",
    "        print(self.year)\n",
    "obj=skit(\"2000\",\"SKIT\")\n",
    "# print(obj.year)\n",
    "# print(obj.name)\n",
    "\n",
    "obj.show()\n"
   ]
  },
  {
   "cell_type": "code",
   "execution_count": 48,
   "metadata": {},
   "outputs": [
    {
     "name": "stdout",
     "output_type": "stream",
     "text": [
      "2345 101\n"
     ]
    }
   ],
   "source": [
    "# inheritance\n",
    "class arya:\n",
    "    def __init__(self,account_no,emply_id):\n",
    "        self.account_no=account_no\n",
    "        self.emply_id=emply_id\n",
    "class arya2(arya):\n",
    "    def display(self):\n",
    "        print(self.account_no,self.emply_id)\n",
    "obj=arya2(\"2345\",\"101\")\n",
    "print(obj.account_no,obj.emply_id)"
   ]
  },
  {
   "cell_type": "code",
   "execution_count": 49,
   "metadata": {},
   "outputs": [
    {
     "name": "stdout",
     "output_type": "stream",
     "text": [
      "hello\n",
      "arya\n"
     ]
    }
   ],
   "source": [
    "class arya:\n",
    "    name=\"arya\"\n",
    "class arya_old(arya):\n",
    "    print(\"hello\")\n",
    "a=arya_old()\n",
    "print(a.name)"
   ]
  },
  {
   "cell_type": "code",
   "execution_count": 50,
   "metadata": {},
   "outputs": [
    {
     "name": "stdout",
     "output_type": "stream",
     "text": [
      "1234\n",
      "customer details\n"
     ]
    }
   ],
   "source": [
    "class bank_details:\n",
    "    def __init__(self,account_number):\n",
    "        self.account_number=account_number\n",
    "    def customer(self):\n",
    "        print(\"customer details\")\n",
    "class customer2(bank_details):\n",
    "    def __init__(self,account_number):\n",
    "        bank_details.__init__(self,account_number)\n",
    "    def display(self):\n",
    "        print(self.account_number)\n",
    "obj=customer2(1234)\n",
    "obj.display()\n",
    "obj.customer()\n"
   ]
  },
  {
   "cell_type": "code",
   "execution_count": null,
   "metadata": {},
   "outputs": [],
   "source": [
    "class grandfather:\n",
    "    def __init__(self,grandname):\n",
    "        self.grandname=grandname\n",
    "    # pass\n",
    "class father():\n",
    "    def __init__(self,Fname):\n",
    "        self.Fname=Fname\n",
    "    \n",
    "class child(grandfather,father):\n",
    "    pass"
   ]
  },
  {
   "cell_type": "code",
   "execution_count": null,
   "metadata": {},
   "outputs": [
    {
     "name": "stdout",
     "output_type": "stream",
     "text": [
      "son\n"
     ]
    },
    {
     "data": {
      "text/plain": [
       "'abc'"
      ]
     },
     "execution_count": 53,
     "metadata": {},
     "output_type": "execute_result"
    }
   ],
   "source": [
    "# multiple inheritance\n",
    "class grandfather:\n",
    "        grandname=\"abc\"\n",
    "class father():\n",
    "        Fname=\"xyz\"\n",
    "    \n",
    "class child(grandfather,father):\n",
    "    print(\"son\")\n",
    "obj=child()\n",
    "obj.grandname"
   ]
  },
  {
   "cell_type": "code",
   "execution_count": 54,
   "metadata": {},
   "outputs": [
    {
     "name": "stdout",
     "output_type": "stream",
     "text": [
      "this is grandfather class\n",
      "this is father clss\n",
      "son\n"
     ]
    },
    {
     "data": {
      "text/plain": [
       "'abc'"
      ]
     },
     "execution_count": 54,
     "metadata": {},
     "output_type": "execute_result"
    }
   ],
   "source": [
    "# multilevel inheritance\n",
    "class grandfather:\n",
    "        grandname=\"abc\"\n",
    "        print(\"this is grandfather class\")\n",
    "class father(grandfather):\n",
    "        Fname=\"xyz\"\n",
    "        print(\"this is father clss\")\n",
    "    \n",
    "class child(father):\n",
    "    print(\"son\")\n",
    "obj=child()\n",
    "obj.grandname"
   ]
  },
  {
   "cell_type": "code",
   "execution_count": 65,
   "metadata": {},
   "outputs": [
    {
     "name": "stdout",
     "output_type": "stream",
     "text": [
      "this is hyrbid clss\n",
      "this is male class\n",
      "this is female class\n"
     ]
    }
   ],
   "source": [
    "# hybrid\n",
    "class person:\n",
    "    pass\n",
    "class male(person):\n",
    "    one=\"this is male class\"\n",
    "class female(person):\n",
    "    two=\"this is female class\"\n",
    "class child(male,female):\n",
    "     print(\"this is hyrbid clss\")\n",
    "\n",
    "obj=child()\n",
    "print(obj.one)\n",
    "print(obj.two)\n",
    "\n",
    "\n"
   ]
  },
  {
   "cell_type": "code",
   "execution_count": null,
   "metadata": {},
   "outputs": [
    {
     "name": "stdout",
     "output_type": "stream",
     "text": [
      "nisha\n",
      "5\n",
      "3\n"
     ]
    }
   ],
   "source": [
    "# polymorphism\n",
    "name=\"nisha\"\n",
    "print(name)\n",
    "print(len(name))\n",
    "l=[2,3,4]\n",
    "print(len(l))"
   ]
  },
  {
   "cell_type": "code",
   "execution_count": null,
   "metadata": {},
   "outputs": [],
   "source": []
  }
 ],
 "metadata": {
  "kernelspec": {
   "display_name": "Python 3",
   "language": "python",
   "name": "python3"
  },
  "language_info": {
   "codemirror_mode": {
    "name": "ipython",
    "version": 3
   },
   "file_extension": ".py",
   "mimetype": "text/x-python",
   "name": "python",
   "nbconvert_exporter": "python",
   "pygments_lexer": "ipython3",
   "version": "3.12.2"
  }
 },
 "nbformat": 4,
 "nbformat_minor": 2
}
