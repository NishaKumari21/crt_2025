{
 "cells": [
  {
   "cell_type": "code",
   "execution_count": 274,
   "metadata": {},
   "outputs": [
    {
     "name": "stdout",
     "output_type": "stream",
     "text": [
      "numpy is imported!\n"
     ]
    }
   ],
   "source": [
    "import numpy as np\n",
    "print(\"numpy is imported!\")"
   ]
  },
  {
   "cell_type": "code",
   "execution_count": 275,
   "metadata": {},
   "outputs": [
    {
     "name": "stdout",
     "output_type": "stream",
     "text": [
      "[2, 3, 5, 5, 6]\n"
     ]
    }
   ],
   "source": [
    "lst1=[2,3,5,5,6]\n",
    "print(lst1)"
   ]
  },
  {
   "cell_type": "code",
   "execution_count": 276,
   "metadata": {},
   "outputs": [
    {
     "name": "stdout",
     "output_type": "stream",
     "text": [
      "[ 5  6 67  8  9]\n",
      "<class 'numpy.ndarray'>\n"
     ]
    }
   ],
   "source": [
    "arr1=np.array([5,6,67,8,9])\n",
    "print(arr1)\n",
    "print(type(arr1))\n"
   ]
  },
  {
   "cell_type": "code",
   "execution_count": 277,
   "metadata": {},
   "outputs": [
    {
     "name": "stdout",
     "output_type": "stream",
     "text": [
      "[2 3 5 5 6]\n",
      "<class 'numpy.ndarray'>\n"
     ]
    }
   ],
   "source": [
    "arr=np.array(lst1)\n",
    "print(arr)\n",
    "print(type(arr))\n"
   ]
  },
  {
   "cell_type": "code",
   "execution_count": 278,
   "metadata": {},
   "outputs": [
    {
     "name": "stdout",
     "output_type": "stream",
     "text": [
      "list: [1, 2, 3, 4, 5, 6, 7, 8, 9, 10, 11, 12, 13, 14, 15, 16, 17, 18, 19, 20, 21, 22, 23, 24]\n",
      "<class 'list'>\n",
      "array: [ 1  2  3  4  5  6  7  8  9 10 11 12 13 14 15 16 17 18 19 20 21 22 23 24]\n",
      "<class 'numpy.ndarray'>\n"
     ]
    }
   ],
   "source": [
    "lst=list(range(1,25))\n",
    "print(\"list:\",lst)\n",
    "print(type(lst))\n",
    "arr=np.array(lst)\n",
    "print(\"array:\",arr)\n",
    "print(type(arr))"
   ]
  },
  {
   "cell_type": "markdown",
   "metadata": {},
   "source": [
    "list stored different kinds of datatypes where as array contains similar datatypes."
   ]
  },
  {
   "cell_type": "code",
   "execution_count": 279,
   "metadata": {},
   "outputs": [
    {
     "data": {
      "text/plain": [
       "array([1, 3, 4, 6])"
      ]
     },
     "execution_count": 279,
     "metadata": {},
     "output_type": "execute_result"
    }
   ],
   "source": [
    "# creating array using np:\n",
    "arr1=np.array([1,3,4,6])\n",
    "arr1"
   ]
  },
  {
   "cell_type": "code",
   "execution_count": 280,
   "metadata": {},
   "outputs": [
    {
     "name": "stdout",
     "output_type": "stream",
     "text": [
      "[3, 34, 5, 2]\n"
     ]
    }
   ],
   "source": [
    "# list\n",
    "l=[3,34,5,2]\n",
    "print(l)"
   ]
  },
  {
   "cell_type": "code",
   "execution_count": 281,
   "metadata": {},
   "outputs": [
    {
     "name": "stdout",
     "output_type": "stream",
     "text": [
      "[0, 2, 4, 6, 8, 10, 12, 14, 16, 18, 20, 22, 24]\n"
     ]
    }
   ],
   "source": [
    "# build in module in python allow only integer values\n",
    "r=range(0,25,2)\n",
    "print(list(r))"
   ]
  },
  {
   "cell_type": "code",
   "execution_count": 282,
   "metadata": {},
   "outputs": [
    {
     "name": "stdout",
     "output_type": "stream",
     "text": [
      "[ 1  2  3  4  5  6  7  8  9 10 11 12 13 14 15 16 17 18 19 20 21 22 23 24]\n"
     ]
    }
   ],
   "source": [
    "# arrange() function:used only when np is imported and can be used for decimal and int values\n",
    "arr=np.arange(1,25)\n",
    "print(arr)\n",
    "# 1 D array"
   ]
  },
  {
   "cell_type": "code",
   "execution_count": 283,
   "metadata": {},
   "outputs": [
    {
     "name": "stdout",
     "output_type": "stream",
     "text": [
      "[[2 3 5]\n",
      " [4 5 6]]\n",
      "2\n"
     ]
    }
   ],
   "source": [
    "# 2D array\n",
    "arr=np.array([[2,3,5],[4,5,6]])\n",
    "print(arr)\n",
    "# to print the dimension of the arrays\n",
    "print(arr.ndim)"
   ]
  },
  {
   "cell_type": "code",
   "execution_count": 284,
   "metadata": {},
   "outputs": [
    {
     "name": "stdout",
     "output_type": "stream",
     "text": [
      "[[[2 3 4]\n",
      "  [4 5 6]\n",
      "  [6 7 8]]]\n",
      "3\n"
     ]
    }
   ],
   "source": [
    "# 3 D array\n",
    "arr=np.array([[[2,3,4],[4,5,6],[6,7,8]]])\n",
    "print(arr)\n",
    "# to print the dimension of the array\n",
    "print(arr.ndim)"
   ]
  },
  {
   "cell_type": "code",
   "execution_count": 285,
   "metadata": {},
   "outputs": [
    {
     "data": {
      "text/plain": [
       "array([[[2, 3, 4, 8],\n",
       "        [4, 5, 6, 8],\n",
       "        [6, 7, 8, 3]],\n",
       "\n",
       "       [[2, 3, 4, 6],\n",
       "        [4, 6, 7, 6],\n",
       "        [6, 7, 8, 9]]])"
      ]
     },
     "execution_count": 285,
     "metadata": {},
     "output_type": "execute_result"
    }
   ],
   "source": [
    "arr4=np.array([[[2,3,4,8],[4,5,6,8],[6,7,8,3]],[[2,3,4,6],[4,6,7,6],[6,7,8,9]]])\n",
    "arr4"
   ]
  },
  {
   "cell_type": "code",
   "execution_count": 286,
   "metadata": {},
   "outputs": [
    {
     "data": {
      "text/plain": [
       "3"
      ]
     },
     "execution_count": 286,
     "metadata": {},
     "output_type": "execute_result"
    }
   ],
   "source": [
    "arr4.ndim"
   ]
  },
  {
   "cell_type": "code",
   "execution_count": 287,
   "metadata": {},
   "outputs": [
    {
     "name": "stdout",
     "output_type": "stream",
     "text": [
      "[[0. 0. 0. 0.]\n",
      " [0. 0. 0. 0.]\n",
      " [0. 0. 0. 0.]]\n"
     ]
    }
   ],
   "source": [
    "\n",
    "# zeros functions:to print the zero matrix\n",
    "arr=np.zeros((3,4))\n",
    "print(arr)"
   ]
  },
  {
   "cell_type": "code",
   "execution_count": 288,
   "metadata": {},
   "outputs": [
    {
     "name": "stdout",
     "output_type": "stream",
     "text": [
      "[1. 1. 1. 1. 1. 1. 1. 1. 1. 1.]\n"
     ]
    }
   ],
   "source": [
    "arr=np.ones(10)\n",
    "print(arr)\n",
    "# 1 D array"
   ]
  },
  {
   "cell_type": "code",
   "execution_count": 289,
   "metadata": {},
   "outputs": [
    {
     "name": "stdout",
     "output_type": "stream",
     "text": [
      "[[1. 1. 1. 1.]\n",
      " [1. 1. 1. 1.]\n",
      " [1. 1. 1. 1.]]\n",
      "2\n"
     ]
    }
   ],
   "source": [
    "# ones functions\n",
    "arr=np.ones((3,4))\n",
    "print(arr)\n",
    "print(arr.ndim)\n",
    "# 2 D array"
   ]
  },
  {
   "cell_type": "code",
   "execution_count": 290,
   "metadata": {},
   "outputs": [
    {
     "name": "stdout",
     "output_type": "stream",
     "text": [
      "[ 1.    3.25  5.5   7.75 10.  ]\n",
      "1\n"
     ]
    }
   ],
   "source": [
    "# linspace functions:create a array with equal difference btw the given number\n",
    "arr=np.linspace(1,10,5)\n",
    "print(arr)\n",
    "print(arr.ndim)"
   ]
  },
  {
   "cell_type": "code",
   "execution_count": 291,
   "metadata": {},
   "outputs": [
    {
     "name": "stdout",
     "output_type": "stream",
     "text": [
      "2\n"
     ]
    }
   ],
   "source": [
    "# reshape is used to convert the dimension of the array from 1d array to 2d array\n",
    "rs=np.linspace(1,10,5).reshape(5,1)\n",
    "rs\n",
    "print(rs.ndim)"
   ]
  },
  {
   "cell_type": "code",
   "execution_count": 292,
   "metadata": {},
   "outputs": [
    {
     "name": "stdout",
     "output_type": "stream",
     "text": [
      "[[ 0  1  2  3  4  5  6  7  8  9 10 11 12 13 14]\n",
      " [15 16 17 18 19 20 21 22 23 24 25 26 27 28 29]]\n",
      "2\n"
     ]
    }
   ],
   "source": [
    "arr=np.arange(0,30).reshape(2,15)\n",
    "print(arr)\n",
    "print(arr.ndim)"
   ]
  },
  {
   "cell_type": "code",
   "execution_count": 293,
   "metadata": {},
   "outputs": [
    {
     "data": {
      "text/plain": [
       "(2, 15)"
      ]
     },
     "execution_count": 293,
     "metadata": {},
     "output_type": "execute_result"
    }
   ],
   "source": [
    "arr.shape"
   ]
  },
  {
   "cell_type": "markdown",
   "metadata": {},
   "source": [
    "# 3 D array conversion "
   ]
  },
  {
   "cell_type": "code",
   "execution_count": 294,
   "metadata": {},
   "outputs": [
    {
     "name": "stdout",
     "output_type": "stream",
     "text": [
      "[[[ 0]\n",
      "  [ 1]\n",
      "  [ 2]\n",
      "  [ 3]\n",
      "  [ 4]\n",
      "  [ 5]]\n",
      "\n",
      " [[ 6]\n",
      "  [ 7]\n",
      "  [ 8]\n",
      "  [ 9]\n",
      "  [10]\n",
      "  [11]]\n",
      "\n",
      " [[12]\n",
      "  [13]\n",
      "  [14]\n",
      "  [15]\n",
      "  [16]\n",
      "  [17]]\n",
      "\n",
      " [[18]\n",
      "  [19]\n",
      "  [20]\n",
      "  [21]\n",
      "  [22]\n",
      "  [23]]\n",
      "\n",
      " [[24]\n",
      "  [25]\n",
      "  [26]\n",
      "  [27]\n",
      "  [28]\n",
      "  [29]]]\n",
      "3\n"
     ]
    }
   ],
   "source": [
    "arr=np.arange(0,30).reshape(5,6,1)\n",
    "# 5:no of blocks\n",
    "# 6 :rows\n",
    "# 1:columns\n",
    "print(arr)\n",
    "print(arr.ndim)"
   ]
  },
  {
   "cell_type": "code",
   "execution_count": 295,
   "metadata": {},
   "outputs": [
    {
     "name": "stdout",
     "output_type": "stream",
     "text": [
      "[[[ 0  1]\n",
      "  [ 2  3]\n",
      "  [ 4  5]\n",
      "  [ 6  7]\n",
      "  [ 8  9]]\n",
      "\n",
      " [[10 11]\n",
      "  [12 13]\n",
      "  [14 15]\n",
      "  [16 17]\n",
      "  [18 19]]\n",
      "\n",
      " [[20 21]\n",
      "  [22 23]\n",
      "  [24 25]\n",
      "  [26 27]\n",
      "  [28 29]]]\n",
      "dimension: 3\n",
      "shape: (3, 5, 2)\n"
     ]
    }
   ],
   "source": [
    "arr=np.arange(0,30).reshape(3,5,2)\n",
    "print(arr)\n",
    "print(\"dimension:\",arr.ndim)\n",
    "print(\"shape:\",arr.shape)"
   ]
  },
  {
   "cell_type": "code",
   "execution_count": 296,
   "metadata": {},
   "outputs": [
    {
     "name": "stdout",
     "output_type": "stream",
     "text": [
      "45\n"
     ]
    }
   ],
   "source": [
    "# random initialization\n",
    "arr=np.random.randint(50)\n",
    "# 1-50 is the range \n",
    "# by default 1 \n",
    "print(arr)"
   ]
  },
  {
   "cell_type": "code",
   "execution_count": 297,
   "metadata": {},
   "outputs": [
    {
     "name": "stdout",
     "output_type": "stream",
     "text": [
      "30\n"
     ]
    }
   ],
   "source": [
    "# random initialization\n",
    "arr=np.random.randint(1,50)\n",
    "# 1-50 is the range \n",
    "# by default 1 \n",
    "print(arr)"
   ]
  },
  {
   "cell_type": "code",
   "execution_count": 298,
   "metadata": {},
   "outputs": [
    {
     "name": "stdout",
     "output_type": "stream",
     "text": [
      "[[26 16 14]\n",
      " [ 3  7  1]\n",
      " [ 5 23 16]]\n",
      "2\n"
     ]
    }
   ],
   "source": [
    "arr=np.random.randint(1,50,(3,3))\n",
    "# 3 means number of random elements we want.\n",
    "print(arr)\n",
    "print(arr.ndim)\n",
    "# 1 D array"
   ]
  },
  {
   "cell_type": "code",
   "execution_count": 299,
   "metadata": {},
   "outputs": [
    {
     "name": "stdout",
     "output_type": "stream",
     "text": [
      "[30 14 20]\n",
      "1\n"
     ]
    }
   ],
   "source": [
    "arr=np.random.randint(1,50,3)\n",
    "# 3 means number of random elements we want.\n",
    "print(arr)\n",
    "print(arr.ndim)\n",
    "# 1 D array\n"
   ]
  },
  {
   "cell_type": "code",
   "execution_count": 300,
   "metadata": {},
   "outputs": [
    {
     "name": "stdout",
     "output_type": "stream",
     "text": [
      "[[1 3 1]\n",
      " [2 2 1]\n",
      " [1 4 3]]\n",
      "2\n"
     ]
    }
   ],
   "source": [
    "arr=np.random.randint(1,5,(3,3))\n",
    "# coverting to 2 dim\n",
    "# 3 means number of random elements we want.\n",
    "print(arr)\n",
    "print(arr.ndim)"
   ]
  },
  {
   "cell_type": "code",
   "execution_count": 301,
   "metadata": {},
   "outputs": [
    {
     "name": "stdout",
     "output_type": "stream",
     "text": [
      "[[[1 3 2]\n",
      "  [4 3 1]\n",
      "  [2 1 4]]\n",
      "\n",
      " [[3 3 3]\n",
      "  [2 3 3]\n",
      "  [3 2 2]]\n",
      "\n",
      " [[4 1 1]\n",
      "  [3 4 2]\n",
      "  [1 1 3]]]\n",
      "3\n"
     ]
    }
   ],
   "source": [
    "arr=np.random.randint(1,5,(3,3,3))\n",
    "# coverting to 3 Dimension\n",
    "# 3 means number of random elements we want.\n",
    "print(arr)\n",
    "print(arr.ndim)"
   ]
  },
  {
   "cell_type": "code",
   "execution_count": 302,
   "metadata": {},
   "outputs": [
    {
     "name": "stdout",
     "output_type": "stream",
     "text": [
      "[[20 44 24]]\n",
      "2\n"
     ]
    }
   ],
   "source": [
    "arr=np.random.randint(1,50,3).reshape(1,3)\n",
    "# 3 means number of random elements we want.\n",
    "print(arr)\n",
    "print(arr.ndim)"
   ]
  },
  {
   "cell_type": "code",
   "execution_count": 303,
   "metadata": {},
   "outputs": [
    {
     "name": "stdout",
     "output_type": "stream",
     "text": [
      "[0.60509464 0.62437507 0.58500175 0.92266406 0.40704023 0.34550203\n",
      " 0.27370613 0.71370191 0.7814348  0.32999652]\n",
      "2\n"
     ]
    }
   ],
   "source": [
    "# without randint it will generate the float random elements\n",
    "arr=np.random.rand(10)\n",
    "arr1=np.random.randint(10)\n",
    "print(arr)\n",
    "print(arr1)"
   ]
  },
  {
   "cell_type": "code",
   "execution_count": 304,
   "metadata": {},
   "outputs": [],
   "source": [
    "arr=np.random.random((10,5))\n",
    "# print(arr)\n",
    "# print(arr.ndim)"
   ]
  },
  {
   "cell_type": "code",
   "execution_count": 305,
   "metadata": {},
   "outputs": [
    {
     "data": {
      "text/plain": [
       "array([ 0,  1,  2,  3,  4,  5,  6,  7,  8,  9, 10, 11, 12, 13, 14, 15, 16,\n",
       "       17, 18, 19, 20, 21, 22, 23, 24, 25, 26, 27, 28, 29, 30, 31, 32, 33,\n",
       "       34, 35, 36, 37, 38, 39, 40, 41, 42, 43, 44, 45, 46, 47, 48, 49, 50,\n",
       "       51, 52, 53, 54, 55, 56, 57, 58, 59])"
      ]
     },
     "execution_count": 305,
     "metadata": {},
     "output_type": "execute_result"
    }
   ],
   "source": [
    "arr=np.arange(60)\n",
    "# 1 D array h\n",
    "arr"
   ]
  },
  {
   "cell_type": "code",
   "execution_count": 306,
   "metadata": {},
   "outputs": [
    {
     "data": {
      "text/plain": [
       "array([[ 0,  1,  2,  3,  4],\n",
       "       [ 5,  6,  7,  8,  9],\n",
       "       [10, 11, 12, 13, 14],\n",
       "       [15, 16, 17, 18, 19],\n",
       "       [20, 21, 22, 23, 24],\n",
       "       [25, 26, 27, 28, 29],\n",
       "       [30, 31, 32, 33, 34],\n",
       "       [35, 36, 37, 38, 39],\n",
       "       [40, 41, 42, 43, 44],\n",
       "       [45, 46, 47, 48, 49],\n",
       "       [50, 51, 52, 53, 54],\n",
       "       [55, 56, 57, 58, 59]])"
      ]
     },
     "execution_count": 306,
     "metadata": {},
     "output_type": "execute_result"
    }
   ],
   "source": [
    "arr=arr.reshape(12,5)\n",
    "# reshape se 2D array mei convert krenge\n",
    "arr"
   ]
  },
  {
   "cell_type": "code",
   "execution_count": 307,
   "metadata": {},
   "outputs": [
    {
     "name": "stdout",
     "output_type": "stream",
     "text": [
      "(12, 5)\n",
      "int32\n"
     ]
    }
   ],
   "source": [
    "# uski shape or dtype\n",
    "print(arr.shape)\n",
    "print(arr.dtype)"
   ]
  },
  {
   "cell_type": "code",
   "execution_count": 308,
   "metadata": {},
   "outputs": [
    {
     "name": "stdout",
     "output_type": "stream",
     "text": [
      "[[ 0  1  2  3  4]\n",
      " [ 5  6  7  8  9]\n",
      " [10 11 12 13 14]\n",
      " [15 16 17 18 19]\n",
      " [20 21 22 23 24]\n",
      " [25 26 27 28 29]\n",
      " [30 31 32 33 34]\n",
      " [35 36 37 38 39]\n",
      " [40 41 42 43 44]\n",
      " [45 46 47 48 49]\n",
      " [50 51 52 53 54]\n",
      " [55 56 57 58 59]]\n",
      "datatype: int32\n",
      "dimension: 2\n",
      "array_size: 60\n",
      "shape:row and columns (12, 5)\n"
     ]
    }
   ],
   "source": [
    "print(arr)\n",
    "print(\"datatype:\",arr.dtype)\n",
    "print(\"dimension:\",arr.ndim)\n",
    "print(\"array_size:\",arr.size)\n",
    "print(\"shape:row and columns\",arr.shape)"
   ]
  },
  {
   "cell_type": "code",
   "execution_count": 309,
   "metadata": {},
   "outputs": [
    {
     "name": "stdout",
     "output_type": "stream",
     "text": [
      "[[0.14760526 0.68803883 0.08504616 0.22331177 0.21111994]\n",
      " [0.68374718 0.73169959 0.22685605 0.2768498  0.04437946]]\n",
      "2\n"
     ]
    }
   ],
   "source": [
    "arr=np.random.random(10).reshape(2,5)\n",
    "# using the reshape function\n",
    "print(arr)\n",
    "print(arr.ndim)"
   ]
  },
  {
   "cell_type": "code",
   "execution_count": 310,
   "metadata": {},
   "outputs": [
    {
     "name": "stdout",
     "output_type": "stream",
     "text": [
      "[0.14760526 0.68803883 0.08504616 0.22331177 0.21111994 0.68374718\n",
      " 0.73169959 0.22685605 0.2768498  0.04437946]\n"
     ]
    }
   ],
   "source": [
    "# flatten /ravel fuction :used to  convert  from 2D/3D array into 1 D array\n",
    "arr1=arr.flatten()\n",
    "print(arr1)"
   ]
  },
  {
   "cell_type": "code",
   "execution_count": 311,
   "metadata": {},
   "outputs": [
    {
     "name": "stdout",
     "output_type": "stream",
     "text": [
      "[0.14760526 0.68803883 0.08504616 0.22331177 0.21111994 0.68374718\n",
      " 0.73169959 0.22685605 0.2768498  0.04437946]\n"
     ]
    }
   ],
   "source": [
    "arr1=arr.ravel()\n",
    "print(arr1)"
   ]
  },
  {
   "cell_type": "code",
   "execution_count": 312,
   "metadata": {},
   "outputs": [
    {
     "name": "stdout",
     "output_type": "stream",
     "text": [
      "(2, 4)\n",
      "[[ 2  3 45 23]\n",
      " [ 6  7  8  7]]\n"
     ]
    }
   ],
   "source": [
    "l=[[2,3,45,23],[6,7,8,7]]\n",
    "arr=np.array(l)\n",
    "print(arr.shape)\n",
    "print(arr)"
   ]
  },
  {
   "cell_type": "code",
   "execution_count": 313,
   "metadata": {},
   "outputs": [
    {
     "name": "stdout",
     "output_type": "stream",
     "text": [
      "4\n"
     ]
    }
   ],
   "source": [
    "l=[[3,4,6,79],[3,5,7,9,23]]\n",
    "print(len(l[0]))"
   ]
  },
  {
   "cell_type": "code",
   "execution_count": 314,
   "metadata": {},
   "outputs": [
    {
     "data": {
      "text/plain": [
       "array([[ 2,  3, 45, 23],\n",
       "       [ 6,  7,  8,  7]])"
      ]
     },
     "execution_count": 314,
     "metadata": {},
     "output_type": "execute_result"
    }
   ],
   "source": [
    "arr"
   ]
  },
  {
   "cell_type": "code",
   "execution_count": 315,
   "metadata": {},
   "outputs": [
    {
     "name": "stdout",
     "output_type": "stream",
     "text": [
      "[[ 2  6]\n",
      " [ 3  7]\n",
      " [45  8]\n",
      " [23  7]]\n"
     ]
    }
   ],
   "source": [
    "# transpose means to cnvert row to column and vice versa\n",
    "l=[[2,3,45,23],[6,7,8,7]]\n",
    "arr=np.array(l)\n",
    "arr.T.shape\n",
    "print(arr.T)\n",
    "# print(arr.transpose())"
   ]
  },
  {
   "cell_type": "code",
   "execution_count": 316,
   "metadata": {},
   "outputs": [
    {
     "name": "stdout",
     "output_type": "stream",
     "text": [
      "[[1 2 3]\n",
      " [4 5 6]]\n"
     ]
    }
   ],
   "source": [
    "arr=np.array([[1,2,3],[4,5,6]])\n",
    "print(arr)\n"
   ]
  },
  {
   "cell_type": "code",
   "execution_count": 317,
   "metadata": {},
   "outputs": [
    {
     "data": {
      "text/plain": [
       "array([ 0,  1,  2,  3,  4,  5,  6,  7,  8,  9, 10, 11, 12, 13, 14, 15, 16,\n",
       "       17, 18, 19, 20, 21, 22, 23, 24, 25, 26, 27, 28, 29, 30, 31, 32, 33,\n",
       "       34, 35, 36, 37, 38, 39, 40, 41, 42, 43, 44, 45, 46, 47, 48, 49, 50,\n",
       "       51, 52, 53, 54, 55, 56, 57, 58, 59])"
      ]
     },
     "execution_count": 317,
     "metadata": {},
     "output_type": "execute_result"
    }
   ],
   "source": [
    "arr=np.arange(60)\n",
    "arr"
   ]
  },
  {
   "cell_type": "code",
   "execution_count": 318,
   "metadata": {},
   "outputs": [
    {
     "data": {
      "text/plain": [
       "2"
      ]
     },
     "execution_count": 318,
     "metadata": {},
     "output_type": "execute_result"
    }
   ],
   "source": [
    "arr[2]"
   ]
  },
  {
   "cell_type": "code",
   "execution_count": 319,
   "metadata": {},
   "outputs": [
    {
     "data": {
      "text/plain": [
       "array([4, 5, 6, 7, 8, 9])"
      ]
     },
     "execution_count": 319,
     "metadata": {},
     "output_type": "execute_result"
    }
   ],
   "source": [
    "arr[4:10]\n",
    "# arr slicing"
   ]
  },
  {
   "cell_type": "code",
   "execution_count": 320,
   "metadata": {},
   "outputs": [
    {
     "data": {
      "text/plain": [
       "array([10, 11, 12, 13, 14, 15, 16, 17, 18, 19, 20, 21, 22, 23, 24, 25, 26,\n",
       "       27, 28, 29, 30, 31, 32, 33, 34, 35, 36, 37, 38, 39, 40, 41, 42, 43,\n",
       "       44, 45, 46, 47, 48, 49, 50, 51, 52, 53, 54, 55, 56, 57, 58, 59])"
      ]
     },
     "execution_count": 320,
     "metadata": {},
     "output_type": "execute_result"
    }
   ],
   "source": [
    "arr[10:60]"
   ]
  },
  {
   "cell_type": "code",
   "execution_count": 321,
   "metadata": {},
   "outputs": [
    {
     "data": {
      "text/plain": [
       "array([10, 12, 14, 16, 18, 20, 22, 24, 26, 28, 30, 32, 34, 36, 38, 40, 42,\n",
       "       44, 46, 48, 50, 52, 54, 56, 58])"
      ]
     },
     "execution_count": 321,
     "metadata": {},
     "output_type": "execute_result"
    }
   ],
   "source": [
    "arr[10:70:2]"
   ]
  },
  {
   "cell_type": "code",
   "execution_count": 322,
   "metadata": {},
   "outputs": [
    {
     "data": {
      "text/plain": [
       "array([[ 0,  1,  2,  3,  4],\n",
       "       [ 5,  6,  7,  8,  9],\n",
       "       [10, 11, 12, 13, 14],\n",
       "       [15, 16, 17, 18, 19],\n",
       "       [20, 21, 22, 23, 24],\n",
       "       [25, 26, 27, 28, 29],\n",
       "       [30, 31, 32, 33, 34],\n",
       "       [35, 36, 37, 38, 39],\n",
       "       [40, 41, 42, 43, 44],\n",
       "       [45, 46, 47, 48, 49],\n",
       "       [50, 51, 52, 53, 54],\n",
       "       [55, 56, 57, 58, 59],\n",
       "       [60, 61, 62, 63, 64],\n",
       "       [65, 66, 67, 68, 69],\n",
       "       [70, 71, 72, 73, 74],\n",
       "       [75, 76, 77, 78, 79],\n",
       "       [80, 81, 82, 83, 84],\n",
       "       [85, 86, 87, 88, 89],\n",
       "       [90, 91, 92, 93, 94],\n",
       "       [95, 96, 97, 98, 99]])"
      ]
     },
     "execution_count": 322,
     "metadata": {},
     "output_type": "execute_result"
    }
   ],
   "source": [
    "arr=np.arange(0,100).reshape(20,5)\n",
    "arr"
   ]
  },
  {
   "cell_type": "code",
   "execution_count": 323,
   "metadata": {},
   "outputs": [
    {
     "data": {
      "text/plain": [
       "72"
      ]
     },
     "execution_count": 323,
     "metadata": {},
     "output_type": "execute_result"
    }
   ],
   "source": [
    "arr[14,2]\n",
    "# 72 element accessing"
   ]
  },
  {
   "cell_type": "code",
   "execution_count": 324,
   "metadata": {},
   "outputs": [
    {
     "data": {
      "text/plain": [
       "59"
      ]
     },
     "execution_count": 324,
     "metadata": {},
     "output_type": "execute_result"
    }
   ],
   "source": [
    "arr[11,4]\n",
    "# last element accessing"
   ]
  },
  {
   "cell_type": "code",
   "execution_count": 325,
   "metadata": {},
   "outputs": [
    {
     "data": {
      "text/plain": [
       "59"
      ]
     },
     "execution_count": 325,
     "metadata": {},
     "output_type": "execute_result"
    }
   ],
   "source": [
    "arr[11,-1]\n",
    "# last element"
   ]
  },
  {
   "cell_type": "code",
   "execution_count": 326,
   "metadata": {},
   "outputs": [
    {
     "data": {
      "text/plain": [
       "99"
      ]
     },
     "execution_count": 326,
     "metadata": {},
     "output_type": "execute_result"
    }
   ],
   "source": [
    "arr[-1,-1]"
   ]
  },
  {
   "cell_type": "code",
   "execution_count": 327,
   "metadata": {},
   "outputs": [
    {
     "data": {
      "text/plain": [
       "array([[  0,   1,   2,   3,   4],\n",
       "       [  5,   6,   7,   8,   9],\n",
       "       [ 10,  11,  12,  13,  14],\n",
       "       [ 15,  16,  17,  18,  19],\n",
       "       [ 20,  21, 210,  23,  24],\n",
       "       [ 25,  26,  27,  28,  29],\n",
       "       [ 30,  31,  32,  33,  34],\n",
       "       [ 35,  36,  37,  38,  39],\n",
       "       [ 40,  41,  42,  43,  44],\n",
       "       [ 45,  46,  47,  48,  49],\n",
       "       [ 50,  51,  52,  53,  54],\n",
       "       [ 55,  56,  57,  58,  59],\n",
       "       [ 60,  61,  62,  63,  64],\n",
       "       [ 65,  66,  67,  68,  69],\n",
       "       [ 70,  71,  72,  73,  74],\n",
       "       [ 75,  76,  77,  78,  79],\n",
       "       [ 80,  81,  82,  83,  84],\n",
       "       [ 85,  86,  87,  88,  89],\n",
       "       [ 90,  91,  92,  93,  94],\n",
       "       [ 95,  96,  97,  98,  99]])"
      ]
     },
     "execution_count": 327,
     "metadata": {},
     "output_type": "execute_result"
    }
   ],
   "source": [
    "arr[4,2]=210\n",
    "arr"
   ]
  },
  {
   "cell_type": "code",
   "execution_count": 328,
   "metadata": {},
   "outputs": [
    {
     "data": {
      "text/plain": [
       "array([  0,   1,   2,   3,   4,   5,   6,   7,   8,   9,  10,  11,  12,\n",
       "        13,  14,  15,  16,  17,  18,  19,  20,  21,  22,  23,  24,  25,\n",
       "        26,  27,  28,  29,  30,  31,  32,  33,  34,  35,  36,  37,  38,\n",
       "        39,  40,  41,  42,  43,  44,  45,  46,  47,  48,  49,  50,  51,\n",
       "        52,  53,  54,  55,  56,  57,  58,  59,  60,  61,  62,  63,  64,\n",
       "        65,  66,  67,  68,  69,  70,  71,  72,  73,  74,  75,  76,  77,\n",
       "        78,  79,  80,  81,  82,  83,  84,  85,  86,  87,  88,  89,  90,\n",
       "        91,  92,  93,  94,  95,  96,  97,  98,  99, 100, 101, 102, 103,\n",
       "       104, 105, 106, 107, 108, 109, 110, 111, 112, 113, 114, 115, 116,\n",
       "       117, 118, 119, 120, 121, 122, 123, 124, 125, 126, 127, 128, 129,\n",
       "       130, 131, 132, 133, 134, 135, 136, 137, 138, 139, 140, 141, 142,\n",
       "       143, 144, 145, 146, 147, 148, 149, 150, 151, 152, 153, 154, 155,\n",
       "       156, 157, 158, 159, 160, 161, 162, 163, 164, 165, 166, 167, 168,\n",
       "       169, 170, 171, 172, 173, 174, 175, 176, 177, 178, 179, 180, 181,\n",
       "       182, 183, 184, 185, 186, 187, 188, 189, 190, 191, 192, 193, 194,\n",
       "       195, 196, 197, 198, 199, 200, 201, 202, 203, 204, 205, 206, 207,\n",
       "       208, 209, 210, 211, 212, 213, 214, 215, 216, 217, 218, 219, 220,\n",
       "       221, 222, 223, 224])"
      ]
     },
     "execution_count": 328,
     "metadata": {},
     "output_type": "execute_result"
    }
   ],
   "source": [
    "arr=np.arange(0,225)\n",
    "arr"
   ]
  },
  {
   "cell_type": "code",
   "execution_count": 329,
   "metadata": {},
   "outputs": [
    {
     "data": {
      "text/plain": [
       "array([[[  0,   1,   2],\n",
       "        [  3,   4,   5],\n",
       "        [  6,   7,   8],\n",
       "        [  9,  10,  11],\n",
       "        [ 12,  13,  14],\n",
       "        [ 15,  16,  17],\n",
       "        [ 18,  19,  20],\n",
       "        [ 21,  22,  23],\n",
       "        [ 24,  25,  26],\n",
       "        [ 27,  28,  29],\n",
       "        [ 30,  31,  32],\n",
       "        [ 33,  34,  35],\n",
       "        [ 36,  37,  38],\n",
       "        [ 39,  40,  41],\n",
       "        [ 42,  43,  44]],\n",
       "\n",
       "       [[ 45,  46,  47],\n",
       "        [ 48,  49,  50],\n",
       "        [ 51,  52,  53],\n",
       "        [ 54,  55,  56],\n",
       "        [ 57,  58,  59],\n",
       "        [ 60,  61,  62],\n",
       "        [ 63,  64,  65],\n",
       "        [ 66,  67,  68],\n",
       "        [ 69,  70,  71],\n",
       "        [ 72,  73,  74],\n",
       "        [ 75,  76,  77],\n",
       "        [ 78,  79,  80],\n",
       "        [ 81,  82,  83],\n",
       "        [ 84,  85,  86],\n",
       "        [ 87,  88,  89]],\n",
       "\n",
       "       [[ 90,  91,  92],\n",
       "        [ 93,  94,  95],\n",
       "        [ 96,  97,  98],\n",
       "        [ 99, 100, 101],\n",
       "        [102, 103, 104],\n",
       "        [105, 106, 107],\n",
       "        [108, 109, 110],\n",
       "        [111, 112, 113],\n",
       "        [114, 115, 116],\n",
       "        [117, 118, 119],\n",
       "        [120, 121, 122],\n",
       "        [123, 124, 125],\n",
       "        [126, 127, 128],\n",
       "        [129, 130, 131],\n",
       "        [132, 133, 134]],\n",
       "\n",
       "       [[135, 136, 137],\n",
       "        [138, 139, 140],\n",
       "        [141, 142, 143],\n",
       "        [144, 145, 146],\n",
       "        [147, 148, 149],\n",
       "        [150, 151, 152],\n",
       "        [153, 154, 155],\n",
       "        [156, 157, 158],\n",
       "        [159, 160, 161],\n",
       "        [162, 163, 164],\n",
       "        [165, 166, 167],\n",
       "        [168, 169, 170],\n",
       "        [171, 172, 173],\n",
       "        [174, 175, 176],\n",
       "        [177, 178, 179]],\n",
       "\n",
       "       [[180, 181, 182],\n",
       "        [183, 184, 185],\n",
       "        [186, 187, 188],\n",
       "        [189, 190, 191],\n",
       "        [192, 193, 194],\n",
       "        [195, 196, 197],\n",
       "        [198, 199, 200],\n",
       "        [201, 202, 203],\n",
       "        [204, 205, 206],\n",
       "        [207, 208, 209],\n",
       "        [210, 211, 212],\n",
       "        [213, 214, 215],\n",
       "        [216, 217, 218],\n",
       "        [219, 220, 221],\n",
       "        [222, 223, 224]]])"
      ]
     },
     "execution_count": 329,
     "metadata": {},
     "output_type": "execute_result"
    }
   ],
   "source": [
    "arr=arr.reshape(5,15,3)\n",
    "arr"
   ]
  },
  {
   "cell_type": "code",
   "execution_count": 330,
   "metadata": {},
   "outputs": [
    {
     "name": "stdout",
     "output_type": "stream",
     "text": [
      "[[[ 23  23  23]\n",
      "  [  3   4   5]\n",
      "  [  6   7   8]\n",
      "  [  9  10  11]\n",
      "  [ 12  13  14]\n",
      "  [ 15  16  17]\n",
      "  [ 18  19  20]\n",
      "  [ 21  22  23]\n",
      "  [ 24  25  26]\n",
      "  [ 27  28  29]\n",
      "  [ 30  31  32]\n",
      "  [ 33  34  35]\n",
      "  [ 36  37  38]\n",
      "  [ 39  40  41]\n",
      "  [ 42  43  44]]\n",
      "\n",
      " [[ 45  46  47]\n",
      "  [ 48  49  50]\n",
      "  [ 51  52  53]\n",
      "  [ 54  55  56]\n",
      "  [ 57  58  59]\n",
      "  [ 60  61  62]\n",
      "  [ 63  64  65]\n",
      "  [ 66  67  68]\n",
      "  [ 69  70  71]\n",
      "  [ 72  73  74]\n",
      "  [ 75  76  77]\n",
      "  [ 78  79  80]\n",
      "  [ 81  82  83]\n",
      "  [ 84  85  86]\n",
      "  [ 87  88  89]]\n",
      "\n",
      " [[ 90  91  92]\n",
      "  [ 93  94  95]\n",
      "  [ 96  97  98]\n",
      "  [ 99 100 101]\n",
      "  [102 103 104]\n",
      "  [105 106 107]\n",
      "  [108 109 110]\n",
      "  [111 112 113]\n",
      "  [114 115 116]\n",
      "  [117 118 119]\n",
      "  [120 121 122]\n",
      "  [123 124 125]\n",
      "  [126 127 128]\n",
      "  [129 130 131]\n",
      "  [132 133 134]]\n",
      "\n",
      " [[135 136 137]\n",
      "  [138 139 140]\n",
      "  [141 142 143]\n",
      "  [144 145 146]\n",
      "  [147 148 149]\n",
      "  [150 151 152]\n",
      "  [153 154 155]\n",
      "  [156 157 158]\n",
      "  [159 160 161]\n",
      "  [162 163 164]\n",
      "  [165 166 167]\n",
      "  [168 169 170]\n",
      "  [171 172 173]\n",
      "  [174 175 176]\n",
      "  [177 178 179]]\n",
      "\n",
      " [[180 181 182]\n",
      "  [183 184 185]\n",
      "  [186 187 188]\n",
      "  [189 190 191]\n",
      "  [192 193 194]\n",
      "  [195 196 197]\n",
      "  [198 199 200]\n",
      "  [201 202 203]\n",
      "  [204 205 206]\n",
      "  [207 208 209]\n",
      "  [210 211 212]\n",
      "  [213 214 215]\n",
      "  [216 217 218]\n",
      "  [219 220 221]\n",
      "  [222 223 224]]]\n"
     ]
    }
   ],
   "source": [
    "# array replacement\n",
    "arr[0][0]=23\n",
    "print(arr)"
   ]
  },
  {
   "cell_type": "code",
   "execution_count": 331,
   "metadata": {},
   "outputs": [
    {
     "name": "stdout",
     "output_type": "stream",
     "text": [
      "(5, 15, 3)\n",
      "3\n"
     ]
    }
   ],
   "source": [
    "print(arr.shape)\n",
    "print(arr.ndim)"
   ]
  },
  {
   "cell_type": "code",
   "execution_count": 332,
   "metadata": {},
   "outputs": [
    {
     "data": {
      "text/plain": [
       "array([[ 6,  7,  8],\n",
       "       [ 9, 10, 11],\n",
       "       [12, 13, 14],\n",
       "       [15, 16, 17],\n",
       "       [18, 19, 20],\n",
       "       [21, 22, 23],\n",
       "       [24, 25, 26],\n",
       "       [27, 28, 29],\n",
       "       [30, 31, 32],\n",
       "       [33, 34, 35],\n",
       "       [36, 37, 38],\n",
       "       [39, 40, 41],\n",
       "       [42, 43, 44]])"
      ]
     },
     "execution_count": 332,
     "metadata": {},
     "output_type": "execute_result"
    }
   ],
   "source": [
    "arr[0][2:]"
   ]
  },
  {
   "cell_type": "code",
   "execution_count": 333,
   "metadata": {},
   "outputs": [
    {
     "data": {
      "text/plain": [
       "array([6, 7, 8])"
      ]
     },
     "execution_count": 333,
     "metadata": {},
     "output_type": "execute_result"
    }
   ],
   "source": [
    "arr[0][2:5][0]"
   ]
  },
  {
   "cell_type": "code",
   "execution_count": 334,
   "metadata": {},
   "outputs": [
    {
     "data": {
      "text/plain": [
       "array([[135, 136, 137],\n",
       "       [138, 139, 140],\n",
       "       [141, 142, 143],\n",
       "       [144, 145, 146],\n",
       "       [147, 148, 149],\n",
       "       [150, 151, 152],\n",
       "       [153, 154, 155],\n",
       "       [156, 157, 158],\n",
       "       [159, 160, 161],\n",
       "       [162, 163, 164],\n",
       "       [165, 166, 167],\n",
       "       [168, 169, 170],\n",
       "       [171, 172, 173],\n",
       "       [174, 175, 176],\n",
       "       [177, 178, 179]])"
      ]
     },
     "execution_count": 334,
     "metadata": {},
     "output_type": "execute_result"
    }
   ],
   "source": [
    "arr[:4][-1]"
   ]
  },
  {
   "cell_type": "code",
   "execution_count": 335,
   "metadata": {},
   "outputs": [
    {
     "data": {
      "text/plain": [
       "array([[45, 46, 47],\n",
       "       [48, 49, 50],\n",
       "       [51, 52, 53],\n",
       "       [54, 55, 56],\n",
       "       [57, 58, 59],\n",
       "       [60, 61, 62],\n",
       "       [63, 64, 65],\n",
       "       [66, 67, 68],\n",
       "       [69, 70, 71],\n",
       "       [72, 73, 74],\n",
       "       [75, 76, 77],\n",
       "       [78, 79, 80],\n",
       "       [81, 82, 83],\n",
       "       [84, 85, 86],\n",
       "       [87, 88, 89]])"
      ]
     },
     "execution_count": 335,
     "metadata": {},
     "output_type": "execute_result"
    }
   ],
   "source": [
    "arr[1]"
   ]
  },
  {
   "cell_type": "code",
   "execution_count": 336,
   "metadata": {},
   "outputs": [
    {
     "data": {
      "text/plain": [
       "array([[[180, 181, 182],\n",
       "        [183, 184, 185],\n",
       "        [186, 187, 188],\n",
       "        [189, 190, 191],\n",
       "        [192, 193, 194],\n",
       "        [195, 196, 197],\n",
       "        [198, 199, 200],\n",
       "        [201, 202, 203],\n",
       "        [204, 205, 206],\n",
       "        [207, 208, 209],\n",
       "        [210, 211, 212],\n",
       "        [213, 214, 215],\n",
       "        [216, 217, 218],\n",
       "        [219, 220, 221],\n",
       "        [222, 223, 224]],\n",
       "\n",
       "       [[135, 136, 137],\n",
       "        [138, 139, 140],\n",
       "        [141, 142, 143],\n",
       "        [144, 145, 146],\n",
       "        [147, 148, 149],\n",
       "        [150, 151, 152],\n",
       "        [153, 154, 155],\n",
       "        [156, 157, 158],\n",
       "        [159, 160, 161],\n",
       "        [162, 163, 164],\n",
       "        [165, 166, 167],\n",
       "        [168, 169, 170],\n",
       "        [171, 172, 173],\n",
       "        [174, 175, 176],\n",
       "        [177, 178, 179]],\n",
       "\n",
       "       [[ 90,  91,  92],\n",
       "        [ 93,  94,  95],\n",
       "        [ 96,  97,  98],\n",
       "        [ 99, 100, 101],\n",
       "        [102, 103, 104],\n",
       "        [105, 106, 107],\n",
       "        [108, 109, 110],\n",
       "        [111, 112, 113],\n",
       "        [114, 115, 116],\n",
       "        [117, 118, 119],\n",
       "        [120, 121, 122],\n",
       "        [123, 124, 125],\n",
       "        [126, 127, 128],\n",
       "        [129, 130, 131],\n",
       "        [132, 133, 134]],\n",
       "\n",
       "       [[ 45,  46,  47],\n",
       "        [ 48,  49,  50],\n",
       "        [ 51,  52,  53],\n",
       "        [ 54,  55,  56],\n",
       "        [ 57,  58,  59],\n",
       "        [ 60,  61,  62],\n",
       "        [ 63,  64,  65],\n",
       "        [ 66,  67,  68],\n",
       "        [ 69,  70,  71],\n",
       "        [ 72,  73,  74],\n",
       "        [ 75,  76,  77],\n",
       "        [ 78,  79,  80],\n",
       "        [ 81,  82,  83],\n",
       "        [ 84,  85,  86],\n",
       "        [ 87,  88,  89]],\n",
       "\n",
       "       [[ 23,  23,  23],\n",
       "        [  3,   4,   5],\n",
       "        [  6,   7,   8],\n",
       "        [  9,  10,  11],\n",
       "        [ 12,  13,  14],\n",
       "        [ 15,  16,  17],\n",
       "        [ 18,  19,  20],\n",
       "        [ 21,  22,  23],\n",
       "        [ 24,  25,  26],\n",
       "        [ 27,  28,  29],\n",
       "        [ 30,  31,  32],\n",
       "        [ 33,  34,  35],\n",
       "        [ 36,  37,  38],\n",
       "        [ 39,  40,  41],\n",
       "        [ 42,  43,  44]]])"
      ]
     },
     "execution_count": 336,
     "metadata": {},
     "output_type": "execute_result"
    }
   ],
   "source": [
    "arr[::-1]\n",
    "# reverse"
   ]
  },
  {
   "cell_type": "code",
   "execution_count": 337,
   "metadata": {},
   "outputs": [
    {
     "ename": "IndexError",
     "evalue": "index 11 is out of bounds for axis 0 with size 5",
     "output_type": "error",
     "traceback": [
      "\u001b[1;31m---------------------------------------------------------------------------\u001b[0m",
      "\u001b[1;31mIndexError\u001b[0m                                Traceback (most recent call last)",
      "Cell \u001b[1;32mIn[337], line 1\u001b[0m\n\u001b[1;32m----> 1\u001b[0m \u001b[43marr\u001b[49m\u001b[43m[\u001b[49m\u001b[38;5;241;43m11\u001b[39;49m\u001b[43m,\u001b[49m\u001b[38;5;241;43m4\u001b[39;49m\u001b[43m]\u001b[49m\n",
      "\u001b[1;31mIndexError\u001b[0m: index 11 is out of bounds for axis 0 with size 5"
     ]
    }
   ],
   "source": [
    "arr[11,4]"
   ]
  },
  {
   "cell_type": "code",
   "execution_count": null,
   "metadata": {},
   "outputs": [
    {
     "data": {
      "text/plain": [
       "7"
      ]
     },
     "execution_count": 161,
     "metadata": {},
     "output_type": "execute_result"
    }
   ],
   "source": [
    "arr[1,2]"
   ]
  },
  {
   "cell_type": "code",
   "execution_count": null,
   "metadata": {},
   "outputs": [
    {
     "data": {
      "text/plain": [
       "7"
      ]
     },
     "execution_count": 162,
     "metadata": {},
     "output_type": "execute_result"
    }
   ],
   "source": [
    "arr[1][2]"
   ]
  },
  {
   "cell_type": "code",
   "execution_count": null,
   "metadata": {},
   "outputs": [
    {
     "data": {
      "text/plain": [
       "array([[23,  1,  2,  3,  4],\n",
       "       [ 5,  6,  7,  8,  9],\n",
       "       [10, 11, 12, 13, 14],\n",
       "       [15, 16, 17, 18, 19],\n",
       "       [20, 21, 22, 23, 24]])"
      ]
     },
     "execution_count": 163,
     "metadata": {},
     "output_type": "execute_result"
    }
   ],
   "source": [
    "arr[0:5]"
   ]
  },
  {
   "cell_type": "code",
   "execution_count": null,
   "metadata": {},
   "outputs": [
    {
     "data": {
      "text/plain": [
       "array([[ 1,  2],\n",
       "       [ 6,  7],\n",
       "       [11, 12],\n",
       "       [16, 17],\n",
       "       [21, 22]])"
      ]
     },
     "execution_count": 164,
     "metadata": {},
     "output_type": "execute_result"
    }
   ],
   "source": [
    "arr[0:5,1:3]"
   ]
  },
  {
   "cell_type": "code",
   "execution_count": null,
   "metadata": {},
   "outputs": [
    {
     "data": {
      "text/plain": [
       "array([[ 1,  2,  3,  4],\n",
       "       [ 6,  7,  8,  9],\n",
       "       [11, 12, 13, 14],\n",
       "       [16, 17, 18, 19],\n",
       "       [21, 22, 23, 24]])"
      ]
     },
     "execution_count": 165,
     "metadata": {},
     "output_type": "execute_result"
    }
   ],
   "source": [
    "arr[0:5,1:]"
   ]
  },
  {
   "cell_type": "code",
   "execution_count": null,
   "metadata": {},
   "outputs": [
    {
     "data": {
      "text/plain": [
       "array([[[  0]],\n",
       "\n",
       "       [[ 45]],\n",
       "\n",
       "       [[ 90]],\n",
       "\n",
       "       [[135]],\n",
       "\n",
       "       [[180]]])"
      ]
     },
     "execution_count": 181,
     "metadata": {},
     "output_type": "execute_result"
    }
   ],
   "source": [
    "arr[:,0:1,0:1]"
   ]
  },
  {
   "cell_type": "code",
   "execution_count": null,
   "metadata": {},
   "outputs": [],
   "source": [
    "arr[2][3][1]=500"
   ]
  },
  {
   "cell_type": "code",
   "execution_count": null,
   "metadata": {},
   "outputs": [
    {
     "data": {
      "text/plain": [
       "array([[[  2,   3,   4],\n",
       "        [  5,   6,   7],\n",
       "        [  8,   9,  10],\n",
       "        [ 11,  12,  13],\n",
       "        [ 14,  15,  16],\n",
       "        [ 17,  18,  19],\n",
       "        [ 20,  21,  22],\n",
       "        [ 23,  24,  25],\n",
       "        [ 26,  27,  28],\n",
       "        [ 29,  30,  31],\n",
       "        [ 32,  33,  34],\n",
       "        [ 35,  36,  37],\n",
       "        [ 38,  39,  40],\n",
       "        [ 41,  42,  43],\n",
       "        [ 44,  45,  46]],\n",
       "\n",
       "       [[ 47,  48,  49],\n",
       "        [ 50,  51,  52],\n",
       "        [ 53,  54,  55],\n",
       "        [ 56,  57,  58],\n",
       "        [ 59,  60,  61],\n",
       "        [ 62,  63,  64],\n",
       "        [ 65,  66,  67],\n",
       "        [ 68,  69,  70],\n",
       "        [ 71,  72,  73],\n",
       "        [ 74,  75,  76],\n",
       "        [ 77,  78,  79],\n",
       "        [ 80,  81,  82],\n",
       "        [ 83,  84,  85],\n",
       "        [ 86,  87,  88],\n",
       "        [ 89,  90,  91]],\n",
       "\n",
       "       [[ 92,  93,  94],\n",
       "        [ 95,  96,  97],\n",
       "        [ 98,  99, 100],\n",
       "        [101, 502, 103],\n",
       "        [104, 105, 106],\n",
       "        [107, 108, 109],\n",
       "        [110, 111, 112],\n",
       "        [113, 114, 115],\n",
       "        [116, 117, 118],\n",
       "        [119, 120, 121],\n",
       "        [122, 123, 124],\n",
       "        [125, 126, 127],\n",
       "        [128, 129, 130],\n",
       "        [131, 132, 133],\n",
       "        [134, 135, 136]],\n",
       "\n",
       "       [[137, 138, 139],\n",
       "        [140, 141, 142],\n",
       "        [143, 144, 145],\n",
       "        [146, 147, 148],\n",
       "        [149, 150, 151],\n",
       "        [152, 153, 154],\n",
       "        [155, 156, 157],\n",
       "        [158, 159, 160],\n",
       "        [161, 162, 163],\n",
       "        [164, 165, 166],\n",
       "        [167, 168, 169],\n",
       "        [170, 171, 172],\n",
       "        [173, 174, 175],\n",
       "        [176, 177, 178],\n",
       "        [179, 180, 181]],\n",
       "\n",
       "       [[182, 183, 184],\n",
       "        [185, 186, 187],\n",
       "        [188, 189, 190],\n",
       "        [191, 192, 193],\n",
       "        [194, 195, 196],\n",
       "        [197, 198, 199],\n",
       "        [200, 201, 202],\n",
       "        [203, 204, 205],\n",
       "        [206, 207, 208],\n",
       "        [209, 210, 211],\n",
       "        [212, 213, 214],\n",
       "        [215, 216, 217],\n",
       "        [218, 219, 220],\n",
       "        [221, 222, 223],\n",
       "        [224, 225, 226]]])"
      ]
     },
     "execution_count": 186,
     "metadata": {},
     "output_type": "execute_result"
    }
   ],
   "source": [
    "arr +2\n",
    "# 2 is added to every single element in the array"
   ]
  },
  {
   "cell_type": "code",
   "execution_count": null,
   "metadata": {},
   "outputs": [
    {
     "data": {
      "text/plain": [
       "array([[[ -1,   0,   1],\n",
       "        [  2,   3,   4],\n",
       "        [  5,   6,   7],\n",
       "        [  8,   9,  10],\n",
       "        [ 11,  12,  13],\n",
       "        [ 14,  15,  16],\n",
       "        [ 17,  18,  19],\n",
       "        [ 20,  21,  22],\n",
       "        [ 23,  24,  25],\n",
       "        [ 26,  27,  28],\n",
       "        [ 29,  30,  31],\n",
       "        [ 32,  33,  34],\n",
       "        [ 35,  36,  37],\n",
       "        [ 38,  39,  40],\n",
       "        [ 41,  42,  43]],\n",
       "\n",
       "       [[ 44,  45,  46],\n",
       "        [ 47,  48,  49],\n",
       "        [ 50,  51,  52],\n",
       "        [ 53,  54,  55],\n",
       "        [ 56,  57,  58],\n",
       "        [ 59,  60,  61],\n",
       "        [ 62,  63,  64],\n",
       "        [ 65,  66,  67],\n",
       "        [ 68,  69,  70],\n",
       "        [ 71,  72,  73],\n",
       "        [ 74,  75,  76],\n",
       "        [ 77,  78,  79],\n",
       "        [ 80,  81,  82],\n",
       "        [ 83,  84,  85],\n",
       "        [ 86,  87,  88]],\n",
       "\n",
       "       [[ 89,  90,  91],\n",
       "        [ 92,  93,  94],\n",
       "        [ 95,  96,  97],\n",
       "        [ 98, 499, 100],\n",
       "        [101, 102, 103],\n",
       "        [104, 105, 106],\n",
       "        [107, 108, 109],\n",
       "        [110, 111, 112],\n",
       "        [113, 114, 115],\n",
       "        [116, 117, 118],\n",
       "        [119, 120, 121],\n",
       "        [122, 123, 124],\n",
       "        [125, 126, 127],\n",
       "        [128, 129, 130],\n",
       "        [131, 132, 133]],\n",
       "\n",
       "       [[134, 135, 136],\n",
       "        [137, 138, 139],\n",
       "        [140, 141, 142],\n",
       "        [143, 144, 145],\n",
       "        [146, 147, 148],\n",
       "        [149, 150, 151],\n",
       "        [152, 153, 154],\n",
       "        [155, 156, 157],\n",
       "        [158, 159, 160],\n",
       "        [161, 162, 163],\n",
       "        [164, 165, 166],\n",
       "        [167, 168, 169],\n",
       "        [170, 171, 172],\n",
       "        [173, 174, 175],\n",
       "        [176, 177, 178]],\n",
       "\n",
       "       [[179, 180, 181],\n",
       "        [182, 183, 184],\n",
       "        [185, 186, 187],\n",
       "        [188, 189, 190],\n",
       "        [191, 192, 193],\n",
       "        [194, 195, 196],\n",
       "        [197, 198, 199],\n",
       "        [200, 201, 202],\n",
       "        [203, 204, 205],\n",
       "        [206, 207, 208],\n",
       "        [209, 210, 211],\n",
       "        [212, 213, 214],\n",
       "        [215, 216, 217],\n",
       "        [218, 219, 220],\n",
       "        [221, 222, 223]]])"
      ]
     },
     "execution_count": 187,
     "metadata": {},
     "output_type": "execute_result"
    }
   ],
   "source": [
    "arr -1"
   ]
  },
  {
   "cell_type": "code",
   "execution_count": null,
   "metadata": {},
   "outputs": [
    {
     "data": {
      "text/plain": [
       "array([[[   0,    2,    4],\n",
       "        [   6,    8,   10],\n",
       "        [  12,   14,   16],\n",
       "        [  18,   20,   22],\n",
       "        [  24,   26,   28],\n",
       "        [  30,   32,   34],\n",
       "        [  36,   38,   40],\n",
       "        [  42,   44,   46],\n",
       "        [  48,   50,   52],\n",
       "        [  54,   56,   58],\n",
       "        [  60,   62,   64],\n",
       "        [  66,   68,   70],\n",
       "        [  72,   74,   76],\n",
       "        [  78,   80,   82],\n",
       "        [  84,   86,   88]],\n",
       "\n",
       "       [[  90,   92,   94],\n",
       "        [  96,   98,  100],\n",
       "        [ 102,  104,  106],\n",
       "        [ 108,  110,  112],\n",
       "        [ 114,  116,  118],\n",
       "        [ 120,  122,  124],\n",
       "        [ 126,  128,  130],\n",
       "        [ 132,  134,  136],\n",
       "        [ 138,  140,  142],\n",
       "        [ 144,  146,  148],\n",
       "        [ 150,  152,  154],\n",
       "        [ 156,  158,  160],\n",
       "        [ 162,  164,  166],\n",
       "        [ 168,  170,  172],\n",
       "        [ 174,  176,  178]],\n",
       "\n",
       "       [[ 180,  182,  184],\n",
       "        [ 186,  188,  190],\n",
       "        [ 192,  194,  196],\n",
       "        [ 198, 1000,  202],\n",
       "        [ 204,  206,  208],\n",
       "        [ 210,  212,  214],\n",
       "        [ 216,  218,  220],\n",
       "        [ 222,  224,  226],\n",
       "        [ 228,  230,  232],\n",
       "        [ 234,  236,  238],\n",
       "        [ 240,  242,  244],\n",
       "        [ 246,  248,  250],\n",
       "        [ 252,  254,  256],\n",
       "        [ 258,  260,  262],\n",
       "        [ 264,  266,  268]],\n",
       "\n",
       "       [[ 270,  272,  274],\n",
       "        [ 276,  278,  280],\n",
       "        [ 282,  284,  286],\n",
       "        [ 288,  290,  292],\n",
       "        [ 294,  296,  298],\n",
       "        [ 300,  302,  304],\n",
       "        [ 306,  308,  310],\n",
       "        [ 312,  314,  316],\n",
       "        [ 318,  320,  322],\n",
       "        [ 324,  326,  328],\n",
       "        [ 330,  332,  334],\n",
       "        [ 336,  338,  340],\n",
       "        [ 342,  344,  346],\n",
       "        [ 348,  350,  352],\n",
       "        [ 354,  356,  358]],\n",
       "\n",
       "       [[ 360,  362,  364],\n",
       "        [ 366,  368,  370],\n",
       "        [ 372,  374,  376],\n",
       "        [ 378,  380,  382],\n",
       "        [ 384,  386,  388],\n",
       "        [ 390,  392,  394],\n",
       "        [ 396,  398,  400],\n",
       "        [ 402,  404,  406],\n",
       "        [ 408,  410,  412],\n",
       "        [ 414,  416,  418],\n",
       "        [ 420,  422,  424],\n",
       "        [ 426,  428,  430],\n",
       "        [ 432,  434,  436],\n",
       "        [ 438,  440,  442],\n",
       "        [ 444,  446,  448]]])"
      ]
     },
     "execution_count": 188,
     "metadata": {},
     "output_type": "execute_result"
    }
   ],
   "source": [
    "arr *2"
   ]
  },
  {
   "cell_type": "code",
   "execution_count": null,
   "metadata": {},
   "outputs": [
    {
     "data": {
      "text/plain": [
       "array([[[  0. ,   0.5,   1. ],\n",
       "        [  1.5,   2. ,   2.5],\n",
       "        [  3. ,   3.5,   4. ],\n",
       "        [  4.5,   5. ,   5.5],\n",
       "        [  6. ,   6.5,   7. ],\n",
       "        [  7.5,   8. ,   8.5],\n",
       "        [  9. ,   9.5,  10. ],\n",
       "        [ 10.5,  11. ,  11.5],\n",
       "        [ 12. ,  12.5,  13. ],\n",
       "        [ 13.5,  14. ,  14.5],\n",
       "        [ 15. ,  15.5,  16. ],\n",
       "        [ 16.5,  17. ,  17.5],\n",
       "        [ 18. ,  18.5,  19. ],\n",
       "        [ 19.5,  20. ,  20.5],\n",
       "        [ 21. ,  21.5,  22. ]],\n",
       "\n",
       "       [[ 22.5,  23. ,  23.5],\n",
       "        [ 24. ,  24.5,  25. ],\n",
       "        [ 25.5,  26. ,  26.5],\n",
       "        [ 27. ,  27.5,  28. ],\n",
       "        [ 28.5,  29. ,  29.5],\n",
       "        [ 30. ,  30.5,  31. ],\n",
       "        [ 31.5,  32. ,  32.5],\n",
       "        [ 33. ,  33.5,  34. ],\n",
       "        [ 34.5,  35. ,  35.5],\n",
       "        [ 36. ,  36.5,  37. ],\n",
       "        [ 37.5,  38. ,  38.5],\n",
       "        [ 39. ,  39.5,  40. ],\n",
       "        [ 40.5,  41. ,  41.5],\n",
       "        [ 42. ,  42.5,  43. ],\n",
       "        [ 43.5,  44. ,  44.5]],\n",
       "\n",
       "       [[ 45. ,  45.5,  46. ],\n",
       "        [ 46.5,  47. ,  47.5],\n",
       "        [ 48. ,  48.5,  49. ],\n",
       "        [ 49.5, 250. ,  50.5],\n",
       "        [ 51. ,  51.5,  52. ],\n",
       "        [ 52.5,  53. ,  53.5],\n",
       "        [ 54. ,  54.5,  55. ],\n",
       "        [ 55.5,  56. ,  56.5],\n",
       "        [ 57. ,  57.5,  58. ],\n",
       "        [ 58.5,  59. ,  59.5],\n",
       "        [ 60. ,  60.5,  61. ],\n",
       "        [ 61.5,  62. ,  62.5],\n",
       "        [ 63. ,  63.5,  64. ],\n",
       "        [ 64.5,  65. ,  65.5],\n",
       "        [ 66. ,  66.5,  67. ]],\n",
       "\n",
       "       [[ 67.5,  68. ,  68.5],\n",
       "        [ 69. ,  69.5,  70. ],\n",
       "        [ 70.5,  71. ,  71.5],\n",
       "        [ 72. ,  72.5,  73. ],\n",
       "        [ 73.5,  74. ,  74.5],\n",
       "        [ 75. ,  75.5,  76. ],\n",
       "        [ 76.5,  77. ,  77.5],\n",
       "        [ 78. ,  78.5,  79. ],\n",
       "        [ 79.5,  80. ,  80.5],\n",
       "        [ 81. ,  81.5,  82. ],\n",
       "        [ 82.5,  83. ,  83.5],\n",
       "        [ 84. ,  84.5,  85. ],\n",
       "        [ 85.5,  86. ,  86.5],\n",
       "        [ 87. ,  87.5,  88. ],\n",
       "        [ 88.5,  89. ,  89.5]],\n",
       "\n",
       "       [[ 90. ,  90.5,  91. ],\n",
       "        [ 91.5,  92. ,  92.5],\n",
       "        [ 93. ,  93.5,  94. ],\n",
       "        [ 94.5,  95. ,  95.5],\n",
       "        [ 96. ,  96.5,  97. ],\n",
       "        [ 97.5,  98. ,  98.5],\n",
       "        [ 99. ,  99.5, 100. ],\n",
       "        [100.5, 101. , 101.5],\n",
       "        [102. , 102.5, 103. ],\n",
       "        [103.5, 104. , 104.5],\n",
       "        [105. , 105.5, 106. ],\n",
       "        [106.5, 107. , 107.5],\n",
       "        [108. , 108.5, 109. ],\n",
       "        [109.5, 110. , 110.5],\n",
       "        [111. , 111.5, 112. ]]])"
      ]
     },
     "execution_count": 189,
     "metadata": {},
     "output_type": "execute_result"
    }
   ],
   "source": [
    "arr/2"
   ]
  },
  {
   "cell_type": "code",
   "execution_count": 344,
   "metadata": {},
   "outputs": [
    {
     "data": {
      "text/plain": [
       "array([ 0,  1,  2,  3,  4,  5,  6,  7,  8,  9, 10, 11, 12, 13, 14, 15, 16,\n",
       "       17, 18, 19, 20, 21, 22, 23, 24, 25, 26, 27, 28, 29, 30, 31, 32, 33,\n",
       "       34, 35, 36, 37, 38, 39, 40, 41, 42, 43, 44, 45, 46, 47, 48, 49, 50,\n",
       "       51, 52, 53, 54, 55, 56, 57, 58, 59])"
      ]
     },
     "execution_count": 344,
     "metadata": {},
     "output_type": "execute_result"
    }
   ],
   "source": [
    "arr1=np.arange(60)\n",
    "arr1"
   ]
  },
  {
   "cell_type": "code",
   "execution_count": 345,
   "metadata": {},
   "outputs": [
    {
     "data": {
      "text/plain": [
       "array([ 0,  1,  2,  3,  4,  5,  6,  7,  8,  9, 10, 11, 12, 13, 14, 15, 16,\n",
       "       17, 18, 19, 20, 21, 22, 23, 24, 25, 26, 27, 28, 29, 30, 31, 32, 33,\n",
       "       34, 35, 36, 37, 38, 39, 40, 41, 42, 43, 44, 45, 46, 47, 48, 49, 50,\n",
       "       51, 52, 53, 54, 55, 56, 57, 58, 59])"
      ]
     },
     "execution_count": 345,
     "metadata": {},
     "output_type": "execute_result"
    }
   ],
   "source": [
    "arr2=np.arange(60)\n",
    "arr2"
   ]
  },
  {
   "cell_type": "code",
   "execution_count": 346,
   "metadata": {},
   "outputs": [
    {
     "data": {
      "text/plain": [
       "array([  0,   2,   4,   6,   8,  10,  12,  14,  16,  18,  20,  22,  24,\n",
       "        26,  28,  30,  32,  34,  36,  38,  40,  42,  44,  46,  48,  50,\n",
       "        52,  54,  56,  58,  60,  62,  64,  66,  68,  70,  72,  74,  76,\n",
       "        78,  80,  82,  84,  86,  88,  90,  92,  94,  96,  98, 100, 102,\n",
       "       104, 106, 108, 110, 112, 114, 116, 118])"
      ]
     },
     "execution_count": 346,
     "metadata": {},
     "output_type": "execute_result"
    }
   ],
   "source": [
    "arr1+arr2"
   ]
  },
  {
   "cell_type": "code",
   "execution_count": 347,
   "metadata": {},
   "outputs": [
    {
     "data": {
      "text/plain": [
       "array([   0,    1,    4,    9,   16,   25,   36,   49,   64,   81,  100,\n",
       "        121,  144,  169,  196,  225,  256,  289,  324,  361,  400,  441,\n",
       "        484,  529,  576,  625,  676,  729,  784,  841,  900,  961, 1024,\n",
       "       1089, 1156, 1225, 1296, 1369, 1444, 1521, 1600, 1681, 1764, 1849,\n",
       "       1936, 2025, 2116, 2209, 2304, 2401, 2500, 2601, 2704, 2809, 2916,\n",
       "       3025, 3136, 3249, 3364, 3481])"
      ]
     },
     "execution_count": 347,
     "metadata": {},
     "output_type": "execute_result"
    }
   ],
   "source": [
    "arr1*arr2"
   ]
  },
  {
   "cell_type": "code",
   "execution_count": null,
   "metadata": {},
   "outputs": [
    {
     "data": {
      "text/plain": [
       "([1, 2, 3, 4, 5], [3, 4, 5, 6, 8])"
      ]
     },
     "execution_count": 349,
     "metadata": {},
     "output_type": "execute_result"
    }
   ],
   "source": [
    "x=[1,2,3,4,5]\n",
    "y=[3,4,5,6,8]\n",
    "x,y"
   ]
  },
  {
   "cell_type": "code",
   "execution_count": 350,
   "metadata": {},
   "outputs": [
    {
     "name": "stdout",
     "output_type": "stream",
     "text": [
      "[1, 2, 3, 4, 5, 3, 4, 5, 6, 8]\n"
     ]
    }
   ],
   "source": [
    "print(x+y)"
   ]
  },
  {
   "cell_type": "code",
   "execution_count": 355,
   "metadata": {},
   "outputs": [
    {
     "data": {
      "text/plain": [
       "array([1, 2, 3, 4, 5])"
      ]
     },
     "execution_count": 355,
     "metadata": {},
     "output_type": "execute_result"
    }
   ],
   "source": [
    "arrx=np.array(x)\n",
    "arrx"
   ]
  },
  {
   "cell_type": "code",
   "execution_count": 356,
   "metadata": {},
   "outputs": [
    {
     "data": {
      "text/plain": [
       "array([3, 4, 5, 6, 8])"
      ]
     },
     "execution_count": 356,
     "metadata": {},
     "output_type": "execute_result"
    }
   ],
   "source": [
    "arry=np.array(y)\n",
    "arry"
   ]
  },
  {
   "cell_type": "code",
   "execution_count": null,
   "metadata": {},
   "outputs": [
    {
     "data": {
      "text/plain": [
       "array([ 4,  6,  8, 10, 13])"
      ]
     },
     "execution_count": 357,
     "metadata": {},
     "output_type": "execute_result"
    }
   ],
   "source": [
    "arrx+arry\n",
    "# list wla nhi hoga"
   ]
  },
  {
   "cell_type": "code",
   "execution_count": 358,
   "metadata": {},
   "outputs": [
    {
     "data": {
      "text/plain": [
       "array([ 3,  8, 15, 24, 40])"
      ]
     },
     "execution_count": 358,
     "metadata": {},
     "output_type": "execute_result"
    }
   ],
   "source": [
    "arrx*arry"
   ]
  },
  {
   "cell_type": "code",
   "execution_count": 359,
   "metadata": {},
   "outputs": [
    {
     "data": {
      "text/plain": [
       "array([0.33333333, 0.5       , 0.6       , 0.66666667, 0.625     ])"
      ]
     },
     "execution_count": 359,
     "metadata": {},
     "output_type": "execute_result"
    }
   ],
   "source": [
    "arrx/arry"
   ]
  },
  {
   "cell_type": "code",
   "execution_count": null,
   "metadata": {},
   "outputs": [],
   "source": []
  }
 ],
 "metadata": {
  "kernelspec": {
   "display_name": "Python 3",
   "language": "python",
   "name": "python3"
  },
  "language_info": {
   "codemirror_mode": {
    "name": "ipython",
    "version": 3
   },
   "file_extension": ".py",
   "mimetype": "text/x-python",
   "name": "python",
   "nbconvert_exporter": "python",
   "pygments_lexer": "ipython3",
   "version": "3.12.2"
  }
 },
 "nbformat": 4,
 "nbformat_minor": 2
}
