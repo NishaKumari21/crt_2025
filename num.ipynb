{
 "cells": [
  {
   "cell_type": "code",
   "execution_count": 74,
   "metadata": {},
   "outputs": [
    {
     "name": "stdout",
     "output_type": "stream",
     "text": [
      "numpy is imported!\n"
     ]
    }
   ],
   "source": [
    "import numpy as np\n",
    "print(\"numpy is imported!\")"
   ]
  },
  {
   "cell_type": "code",
   "execution_count": 75,
   "metadata": {},
   "outputs": [
    {
     "name": "stdout",
     "output_type": "stream",
     "text": [
      "list: [1, 2, 3, 4, 5, 6, 7, 8, 9, 10, 11, 12, 13, 14, 15, 16, 17, 18, 19, 20, 21, 22, 23, 24]\n",
      "<class 'list'>\n",
      "array: [ 1  2  3  4  5  6  7  8  9 10 11 12 13 14 15 16 17 18 19 20 21 22 23 24]\n",
      "<class 'numpy.ndarray'>\n"
     ]
    }
   ],
   "source": [
    "lst=list(range(1,25))\n",
    "print(\"list:\",lst)\n",
    "print(type(lst))\n",
    "arr=np.array(lst)\n",
    "print(\"array:\",arr)\n",
    "print(type(arr))"
   ]
  },
  {
   "cell_type": "markdown",
   "metadata": {},
   "source": [
    "list stored different kinds of datatypes where as array contains similar datatypes."
   ]
  },
  {
   "cell_type": "code",
   "execution_count": 76,
   "metadata": {},
   "outputs": [
    {
     "data": {
      "text/plain": [
       "array([1, 3, 4, 6])"
      ]
     },
     "execution_count": 76,
     "metadata": {},
     "output_type": "execute_result"
    }
   ],
   "source": [
    "# creating array using np:\n",
    "arr1=np.array([1,3,4,6])\n",
    "arr1"
   ]
  },
  {
   "cell_type": "code",
   "execution_count": 77,
   "metadata": {},
   "outputs": [
    {
     "name": "stdout",
     "output_type": "stream",
     "text": [
      "[3, 34, 5, 2]\n"
     ]
    }
   ],
   "source": [
    "# list\n",
    "l=[3,34,5,2]\n",
    "print(l)"
   ]
  },
  {
   "cell_type": "code",
   "execution_count": 78,
   "metadata": {},
   "outputs": [
    {
     "name": "stdout",
     "output_type": "stream",
     "text": [
      "[ 1  2  3  4  5  6  7  8  9 10 11 12 13 14 15 16 17 18 19 20 21 22 23 24]\n"
     ]
    }
   ],
   "source": [
    "# arrange() function\n",
    "arr=np.arange(1,25)\n",
    "print(arr)\n",
    "# 1 D array"
   ]
  },
  {
   "cell_type": "code",
   "execution_count": 79,
   "metadata": {},
   "outputs": [
    {
     "name": "stdout",
     "output_type": "stream",
     "text": [
      "[[2 3 5]\n",
      " [4 5 6]]\n",
      "2\n"
     ]
    }
   ],
   "source": [
    "# 2D array\n",
    "arr=np.array([[2,3,5],[4,5,6]])\n",
    "print(arr)\n",
    "# to print the dimension of the arrays\n",
    "print(arr.ndim)"
   ]
  },
  {
   "cell_type": "code",
   "execution_count": 80,
   "metadata": {},
   "outputs": [
    {
     "name": "stdout",
     "output_type": "stream",
     "text": [
      "[[[2 3 4]\n",
      "  [4 5 6]\n",
      "  [6 7 8]]]\n",
      "3\n"
     ]
    }
   ],
   "source": [
    "# 3 D array\n",
    "arr=np.array([[[2,3,4],[4,5,6],[6,7,8]]])\n",
    "print(arr)\n",
    "# to print the dimension of the array\n",
    "print(arr.ndim)"
   ]
  },
  {
   "cell_type": "code",
   "execution_count": 81,
   "metadata": {},
   "outputs": [
    {
     "data": {
      "text/plain": [
       "array([[[2, 3, 4, 8],\n",
       "        [4, 5, 6, 8],\n",
       "        [6, 7, 8, 3]],\n",
       "\n",
       "       [[2, 3, 4, 6],\n",
       "        [4, 6, 7, 6],\n",
       "        [6, 7, 8, 9]]])"
      ]
     },
     "execution_count": 81,
     "metadata": {},
     "output_type": "execute_result"
    }
   ],
   "source": [
    "arr4=np.array([[[2,3,4,8],[4,5,6,8],[6,7,8,3]],[[2,3,4,6],[4,6,7,6],[6,7,8,9]]])\n",
    "arr4"
   ]
  },
  {
   "cell_type": "code",
   "execution_count": 82,
   "metadata": {},
   "outputs": [
    {
     "data": {
      "text/plain": [
       "3"
      ]
     },
     "execution_count": 82,
     "metadata": {},
     "output_type": "execute_result"
    }
   ],
   "source": [
    "arr4.ndim"
   ]
  },
  {
   "cell_type": "code",
   "execution_count": 83,
   "metadata": {},
   "outputs": [
    {
     "name": "stdout",
     "output_type": "stream",
     "text": [
      "[[0. 0. 0. 0.]\n",
      " [0. 0. 0. 0.]\n",
      " [0. 0. 0. 0.]]\n"
     ]
    }
   ],
   "source": [
    "\n",
    "# zeros functions:to print the zero matrix\n",
    "arr=np.zeros((3,4))\n",
    "print(arr)"
   ]
  },
  {
   "cell_type": "code",
   "execution_count": 84,
   "metadata": {},
   "outputs": [
    {
     "name": "stdout",
     "output_type": "stream",
     "text": [
      "[[1. 1. 1. 1.]\n",
      " [1. 1. 1. 1.]\n",
      " [1. 1. 1. 1.]]\n",
      "2\n"
     ]
    }
   ],
   "source": [
    "# ones functions\n",
    "arr=np.ones((3,4))\n",
    "print(arr)\n",
    "print(arr.ndim)"
   ]
  },
  {
   "cell_type": "code",
   "execution_count": 85,
   "metadata": {},
   "outputs": [
    {
     "name": "stdout",
     "output_type": "stream",
     "text": [
      "[ 1.    3.25  5.5   7.75 10.  ]\n",
      "1\n"
     ]
    }
   ],
   "source": [
    "# linspace functions:create a array with equal difference btw the given number\n",
    "arr=np.linspace(1,10,5)\n",
    "print(arr)\n",
    "print(arr.ndim)"
   ]
  },
  {
   "cell_type": "code",
   "execution_count": null,
   "metadata": {},
   "outputs": [
    {
     "name": "stdout",
     "output_type": "stream",
     "text": [
      "2\n"
     ]
    }
   ],
   "source": [
    "# reshape is used to convert the dimension of the array from 1d array to 2d array\n",
    "rs=np.linspace(1,10,5).reshape(5,1)\n",
    "rs\n",
    "print(rs.ndim)"
   ]
  },
  {
   "cell_type": "code",
   "execution_count": 99,
   "metadata": {},
   "outputs": [
    {
     "name": "stdout",
     "output_type": "stream",
     "text": [
      "[[ 0  1  2  3  4  5  6  7  8  9 10 11 12 13 14]\n",
      " [15 16 17 18 19 20 21 22 23 24 25 26 27 28 29]]\n",
      "2\n"
     ]
    }
   ],
   "source": [
    "arr=np.arange(0,30).reshape(2,15)\n",
    "print(arr)\n",
    "print(arr.ndim)"
   ]
  },
  {
   "cell_type": "code",
   "execution_count": 100,
   "metadata": {},
   "outputs": [
    {
     "data": {
      "text/plain": [
       "(2, 15)"
      ]
     },
     "execution_count": 100,
     "metadata": {},
     "output_type": "execute_result"
    }
   ],
   "source": [
    "arr.shape"
   ]
  },
  {
   "cell_type": "markdown",
   "metadata": {},
   "source": [
    "# 3 D array conversion "
   ]
  },
  {
   "cell_type": "code",
   "execution_count": 104,
   "metadata": {},
   "outputs": [
    {
     "name": "stdout",
     "output_type": "stream",
     "text": [
      "[[[ 0]\n",
      "  [ 1]\n",
      "  [ 2]\n",
      "  [ 3]\n",
      "  [ 4]\n",
      "  [ 5]]\n",
      "\n",
      " [[ 6]\n",
      "  [ 7]\n",
      "  [ 8]\n",
      "  [ 9]\n",
      "  [10]\n",
      "  [11]]\n",
      "\n",
      " [[12]\n",
      "  [13]\n",
      "  [14]\n",
      "  [15]\n",
      "  [16]\n",
      "  [17]]\n",
      "\n",
      " [[18]\n",
      "  [19]\n",
      "  [20]\n",
      "  [21]\n",
      "  [22]\n",
      "  [23]]\n",
      "\n",
      " [[24]\n",
      "  [25]\n",
      "  [26]\n",
      "  [27]\n",
      "  [28]\n",
      "  [29]]]\n",
      "3\n"
     ]
    }
   ],
   "source": [
    "arr=np.arange(0,30).reshape(5,6,1)\n",
    "print(arr)\n",
    "print(arr.ndim)"
   ]
  },
  {
   "cell_type": "code",
   "execution_count": 111,
   "metadata": {},
   "outputs": [
    {
     "name": "stdout",
     "output_type": "stream",
     "text": [
      "[[[ 0  1]\n",
      "  [ 2  3]\n",
      "  [ 4  5]\n",
      "  [ 6  7]\n",
      "  [ 8  9]]\n",
      "\n",
      " [[10 11]\n",
      "  [12 13]\n",
      "  [14 15]\n",
      "  [16 17]\n",
      "  [18 19]]\n",
      "\n",
      " [[20 21]\n",
      "  [22 23]\n",
      "  [24 25]\n",
      "  [26 27]\n",
      "  [28 29]]]\n",
      "dimension: 3\n",
      "shape: (3, 5, 2)\n"
     ]
    }
   ],
   "source": [
    "arr=np.arange(0,30).reshape(3,5,2)\n",
    "print(arr)\n",
    "print(\"dimension:\",arr.ndim)\n",
    "print(\"shape:\",arr.shape)"
   ]
  },
  {
   "cell_type": "code",
   "execution_count": 115,
   "metadata": {},
   "outputs": [
    {
     "name": "stdout",
     "output_type": "stream",
     "text": [
      "9\n"
     ]
    }
   ],
   "source": [
    "# random initialization\n",
    "arr=np.random.randint(1,50)\n",
    "# 1-50 is the range \n",
    "# by default 1 \n",
    "print(arr)"
   ]
  },
  {
   "cell_type": "code",
   "execution_count": 125,
   "metadata": {},
   "outputs": [
    {
     "name": "stdout",
     "output_type": "stream",
     "text": [
      "[16 42 28]\n",
      "1\n"
     ]
    }
   ],
   "source": [
    "arr=np.random.randint(1,50,3)\n",
    "# 3 means number of random elements we want.\n",
    "print(arr)\n",
    "print(arr.ndim)\n",
    "# 1 D array\n"
   ]
  },
  {
   "cell_type": "code",
   "execution_count": 126,
   "metadata": {},
   "outputs": [
    {
     "name": "stdout",
     "output_type": "stream",
     "text": [
      "[[2 3 1]\n",
      " [2 2 3]\n",
      " [4 1 2]]\n",
      "2\n"
     ]
    }
   ],
   "source": [
    "arr=np.random.randint(1,5,(3,3))\n",
    "# coverting to 2 dim\n",
    "# 3 means number of random elements we want.\n",
    "print(arr)\n",
    "print(arr.ndim)"
   ]
  },
  {
   "cell_type": "code",
   "execution_count": 127,
   "metadata": {},
   "outputs": [
    {
     "name": "stdout",
     "output_type": "stream",
     "text": [
      "[[[2 1 1]\n",
      "  [2 4 1]\n",
      "  [1 3 1]]\n",
      "\n",
      " [[4 3 4]\n",
      "  [4 1 2]\n",
      "  [3 1 2]]\n",
      "\n",
      " [[2 2 4]\n",
      "  [1 3 1]\n",
      "  [1 1 4]]]\n",
      "3\n"
     ]
    }
   ],
   "source": [
    "arr=np.random.randint(1,5,(3,3,3))\n",
    "# coverting to 3 Dimension\n",
    "# 3 means number of random elements we want.\n",
    "print(arr)\n",
    "print(arr.ndim)"
   ]
  },
  {
   "cell_type": "code",
   "execution_count": 117,
   "metadata": {},
   "outputs": [
    {
     "name": "stdout",
     "output_type": "stream",
     "text": [
      "[[33 24 44]]\n",
      "2\n"
     ]
    }
   ],
   "source": [
    "arr=np.random.randint(1,50,3).reshape(1,3)\n",
    "# 3 means number of random elements we want.\n",
    "print(arr)\n",
    "print(arr.ndim)"
   ]
  },
  {
   "cell_type": "code",
   "execution_count": 133,
   "metadata": {},
   "outputs": [
    {
     "name": "stdout",
     "output_type": "stream",
     "text": [
      "[0.59577265 0.00510094 0.69444714 0.28717564 0.39843141 0.61487209\n",
      " 0.27801384 0.79952067 0.18080081 0.20348093]\n",
      "3\n"
     ]
    }
   ],
   "source": [
    "# without randint it will generate the float random elements\n",
    "arr=np.random.rand(10)\n",
    "arr1=np.random.randint(10)\n",
    "print(arr)\n",
    "print(arr1)"
   ]
  },
  {
   "cell_type": "code",
   "execution_count": 151,
   "metadata": {},
   "outputs": [],
   "source": [
    "arr=np.random.random((10,5))\n",
    "# print(arr)\n",
    "# print(arr.ndim)"
   ]
  },
  {
   "cell_type": "code",
   "execution_count": 159,
   "metadata": {},
   "outputs": [
    {
     "name": "stdout",
     "output_type": "stream",
     "text": [
      "[[0.41718522 0.80011047 0.44216335 0.05022046 0.9153583 ]\n",
      " [0.95335324 0.66896519 0.59145354 0.8098071  0.73621277]]\n",
      "datatype: float64\n",
      "dimension: 2\n",
      "array_size: 10\n",
      "shape: (2, 5)\n"
     ]
    }
   ],
   "source": [
    "print(arr)\n",
    "print(\"datatype:\",arr.dtype)\n",
    "print(\"dimension:\",arr.ndim)\n",
    "print(\"array_size:\",arr.size)\n",
    "print(\"shape:\",arr.shape)"
   ]
  },
  {
   "cell_type": "code",
   "execution_count": null,
   "metadata": {},
   "outputs": [
    {
     "name": "stdout",
     "output_type": "stream",
     "text": [
      "[[0.41718522 0.80011047 0.44216335 0.05022046 0.9153583 ]\n",
      " [0.95335324 0.66896519 0.59145354 0.8098071  0.73621277]]\n",
      "2\n"
     ]
    }
   ],
   "source": [
    "arr=np.random.random(10).reshape(2,5)\n",
    "# using the reshape function\n",
    "print(arr)\n",
    "print(arr.ndim)"
   ]
  },
  {
   "cell_type": "code",
   "execution_count": 163,
   "metadata": {},
   "outputs": [
    {
     "name": "stdout",
     "output_type": "stream",
     "text": [
      "[0.41718522 0.80011047 0.44216335 0.05022046 0.9153583  0.95335324\n",
      " 0.66896519 0.59145354 0.8098071  0.73621277]\n"
     ]
    }
   ],
   "source": [
    "# flatten /ravel fuction :used to  convert  from 2D/3D array into 1 D array\n",
    "arr1=arr.flatten()\n",
    "print(arr1)"
   ]
  },
  {
   "cell_type": "code",
   "execution_count": 162,
   "metadata": {},
   "outputs": [
    {
     "name": "stdout",
     "output_type": "stream",
     "text": [
      "[0.41718522 0.80011047 0.44216335 0.05022046 0.9153583  0.95335324\n",
      " 0.66896519 0.59145354 0.8098071  0.73621277]\n"
     ]
    }
   ],
   "source": [
    "arr1=arr.ravel()\n",
    "print(arr1)"
   ]
  },
  {
   "cell_type": "code",
   "execution_count": 173,
   "metadata": {},
   "outputs": [
    {
     "data": {
      "text/plain": [
       "array([[ 2,  3, 45, 23],\n",
       "       [ 6,  7,  8,  7]])"
      ]
     },
     "execution_count": 173,
     "metadata": {},
     "output_type": "execute_result"
    }
   ],
   "source": [
    "l=[[2,3,45,23],[6,7,8,7]]\n",
    "arr=np.array(l)\n",
    "arr.shape\n",
    "arr"
   ]
  },
  {
   "cell_type": "code",
   "execution_count": 178,
   "metadata": {},
   "outputs": [
    {
     "name": "stdout",
     "output_type": "stream",
     "text": [
      "[[ 2  6]\n",
      " [ 3  7]\n",
      " [45  8]\n",
      " [23  7]]\n"
     ]
    }
   ],
   "source": [
    "# transpose means to cnvert row to column and vice versa\n",
    "l=[[2,3,45,23],[6,7,8,7]]\n",
    "arr=np.array(l)\n",
    "arr.T.shape\n",
    "print(arr.T)\n",
    "# print(arr.transpose())"
   ]
  },
  {
   "cell_type": "code",
   "execution_count": 166,
   "metadata": {},
   "outputs": [
    {
     "name": "stdout",
     "output_type": "stream",
     "text": [
      "[[1 2 3]\n",
      " [4 5 6]]\n"
     ]
    }
   ],
   "source": [
    "arr=np.array([[1,2,3],[4,5,6]])\n",
    "print(arr)\n"
   ]
  },
  {
   "cell_type": "code",
   "execution_count": null,
   "metadata": {},
   "outputs": [],
   "source": []
  }
 ],
 "metadata": {
  "kernelspec": {
   "display_name": "Python 3",
   "language": "python",
   "name": "python3"
  },
  "language_info": {
   "codemirror_mode": {
    "name": "ipython",
    "version": 3
   },
   "file_extension": ".py",
   "mimetype": "text/x-python",
   "name": "python",
   "nbconvert_exporter": "python",
   "pygments_lexer": "ipython3",
   "version": "3.12.2"
  }
 },
 "nbformat": 4,
 "nbformat_minor": 2
}
